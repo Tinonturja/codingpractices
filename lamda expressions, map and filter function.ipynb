{
 "cells": [
  {
   "cell_type": "code",
   "execution_count": 3,
   "id": "d763dada",
   "metadata": {},
   "outputs": [],
   "source": [
    "def square(num):\n",
    "    return num**2"
   ]
  },
  {
   "cell_type": "code",
   "execution_count": 4,
   "id": "f1e0e001",
   "metadata": {},
   "outputs": [
    {
     "ename": "TypeError",
     "evalue": "unsupported operand type(s) for ** or pow(): 'list' and 'int'",
     "output_type": "error",
     "traceback": [
      "\u001b[0;31m---------------------------------------------------------------------------\u001b[0m",
      "\u001b[0;31mTypeError\u001b[0m                                 Traceback (most recent call last)",
      "Cell \u001b[0;32mIn[4], line 1\u001b[0m\n\u001b[0;32m----> 1\u001b[0m square([\u001b[38;5;241m1\u001b[39m,\u001b[38;5;241m2\u001b[39m,\u001b[38;5;241m3\u001b[39m,\u001b[38;5;241m43\u001b[39m,\u001b[38;5;241m5\u001b[39m])\n",
      "Cell \u001b[0;32mIn[3], line 2\u001b[0m, in \u001b[0;36msquare\u001b[0;34m(num)\u001b[0m\n\u001b[1;32m      1\u001b[0m \u001b[38;5;28;01mdef\u001b[39;00m \u001b[38;5;21msquare\u001b[39m(num):\n\u001b[0;32m----> 2\u001b[0m     \u001b[38;5;28;01mreturn\u001b[39;00m num\u001b[38;5;241m*\u001b[39m\u001b[38;5;241m*\u001b[39m\u001b[38;5;241m2\u001b[39m\n",
      "\u001b[0;31mTypeError\u001b[0m: unsupported operand type(s) for ** or pow(): 'list' and 'int'"
     ]
    }
   ],
   "source": [
    "square([1,2,3,43,5])"
   ]
  },
  {
   "cell_type": "code",
   "execution_count": 5,
   "id": "56e272d6",
   "metadata": {},
   "outputs": [],
   "source": [
    "my_nums=[1,2,3,4,5]"
   ]
  },
  {
   "cell_type": "code",
   "execution_count": 7,
   "id": "fabde9ea",
   "metadata": {},
   "outputs": [
    {
     "name": "stdout",
     "output_type": "stream",
     "text": [
      "1\n",
      "4\n",
      "9\n",
      "16\n",
      "25\n"
     ]
    }
   ],
   "source": [
    "for item in map(square,my_nums):\n",
    "    print(item)"
   ]
  },
  {
   "cell_type": "code",
   "execution_count": 9,
   "id": "4166e69c",
   "metadata": {},
   "outputs": [
    {
     "data": {
      "text/plain": [
       "[1, 4, 9, 16, 25]"
      ]
     },
     "execution_count": 9,
     "metadata": {},
     "output_type": "execute_result"
    }
   ],
   "source": [
    "#to get a list\n",
    "list(map(square,my_nums))"
   ]
  },
  {
   "cell_type": "code",
   "execution_count": 11,
   "id": "32ed0360",
   "metadata": {},
   "outputs": [],
   "source": [
    "#the common structure is\n",
    "#map(\"name of the function\",list of number or any iterable object)"
   ]
  },
  {
   "cell_type": "code",
   "execution_count": 12,
   "id": "c1474f4c",
   "metadata": {},
   "outputs": [
    {
     "name": "stdout",
     "output_type": "stream",
     "text": [
      "t\n",
      "i\n",
      "n\n",
      "o\n",
      "n\n"
     ]
    }
   ],
   "source": [
    "name=\"tinon\"\n",
    "for item in name:\n",
    "    print(item)"
   ]
  },
  {
   "cell_type": "code",
   "execution_count": 13,
   "id": "db93ed73",
   "metadata": {},
   "outputs": [],
   "source": [
    "def nam(func):\n",
    "    return func+\"*\""
   ]
  },
  {
   "cell_type": "code",
   "execution_count": 14,
   "id": "b1a33ff6",
   "metadata": {},
   "outputs": [],
   "source": [
    "name=\"tinon\""
   ]
  },
  {
   "cell_type": "code",
   "execution_count": 15,
   "id": "288b9cc0",
   "metadata": {},
   "outputs": [
    {
     "data": {
      "text/plain": [
       "['t*', 'i*', 'n*', 'o*', 'n*']"
      ]
     },
     "execution_count": 15,
     "metadata": {},
     "output_type": "execute_result"
    }
   ],
   "source": [
    "list(map(nam,name))"
   ]
  },
  {
   "cell_type": "code",
   "execution_count": 16,
   "id": "70570a77",
   "metadata": {},
   "outputs": [
    {
     "data": {
      "text/plain": [
       "'tinon*'"
      ]
     },
     "execution_count": 16,
     "metadata": {},
     "output_type": "execute_result"
    }
   ],
   "source": [
    "nam(\"tinon\")"
   ]
  },
  {
   "cell_type": "code",
   "execution_count": 17,
   "id": "ff00393e",
   "metadata": {},
   "outputs": [],
   "source": [
    "#map function iterates thorough every iterable object and shows the output"
   ]
  },
  {
   "cell_type": "code",
   "execution_count": 18,
   "id": "771adf71",
   "metadata": {},
   "outputs": [],
   "source": [
    "def splicer(string):\n",
    "    if len(string)%2==0:\n",
    "        return 'Even'\n",
    "    else:\n",
    "        return string"
   ]
  },
  {
   "cell_type": "code",
   "execution_count": 19,
   "id": "18e23c1a",
   "metadata": {},
   "outputs": [],
   "source": [
    "name=[\"turja\",\"tori\",\"rita\",\"tapash\"]"
   ]
  },
  {
   "cell_type": "code",
   "execution_count": 20,
   "id": "6a8c27a3",
   "metadata": {},
   "outputs": [
    {
     "data": {
      "text/plain": [
       "['turja', 'Even', 'Even', 'Even']"
      ]
     },
     "execution_count": 20,
     "metadata": {},
     "output_type": "execute_result"
    }
   ],
   "source": [
    "list(map(splicer,name))\n",
    "#splicer itself is a function here.so no () is used here"
   ]
  },
  {
   "cell_type": "code",
   "execution_count": 1,
   "id": "135ca753",
   "metadata": {},
   "outputs": [],
   "source": [
    "def splice(sti):\n",
    "    for item in sti:\n",
    "        if len(sti)%2==0:\n",
    "            break\n",
    "            return \"even\"\n",
    "    else:\n",
    "        item"
   ]
  },
  {
   "cell_type": "code",
   "execution_count": 2,
   "id": "d86d9876",
   "metadata": {},
   "outputs": [],
   "source": [
    "splice([\"turja\",\"tori\",\"rita\",\"tapash\",\"tin\"])"
   ]
  },
  {
   "cell_type": "code",
   "execution_count": 3,
   "id": "c01f653e",
   "metadata": {},
   "outputs": [],
   "source": [
    "def chck_even(num):\n",
    "    return num%2==0"
   ]
  },
  {
   "cell_type": "code",
   "execution_count": 4,
   "id": "77d54e4c",
   "metadata": {},
   "outputs": [],
   "source": [
    "my_num=[1,2,3,4,5,6]"
   ]
  },
  {
   "cell_type": "code",
   "execution_count": 5,
   "id": "07aca3ab",
   "metadata": {},
   "outputs": [
    {
     "data": {
      "text/plain": [
       "[2, 4, 6]"
      ]
     },
     "execution_count": 5,
     "metadata": {},
     "output_type": "execute_result"
    }
   ],
   "source": [
    "list(filter(chck_even,my_num))\n",
    "#filter goes thorough a function and "
   ]
  },
  {
   "cell_type": "code",
   "execution_count": 6,
   "id": "2c2b6977",
   "metadata": {},
   "outputs": [],
   "source": [
    "def square(num):\n",
    "    return num**2"
   ]
  },
  {
   "cell_type": "code",
   "execution_count": 9,
   "id": "17ea02e6",
   "metadata": {},
   "outputs": [],
   "source": [
    "sqr1=lambda num:num**2"
   ]
  },
  {
   "cell_type": "code",
   "execution_count": 10,
   "id": "7647f21b",
   "metadata": {},
   "outputs": [
    {
     "data": {
      "text/plain": [
       "25"
      ]
     },
     "execution_count": 10,
     "metadata": {},
     "output_type": "execute_result"
    }
   ],
   "source": [
    "sqr1(5)"
   ]
  },
  {
   "cell_type": "markdown",
   "id": "8ccf29aa",
   "metadata": {},
   "source": []
  },
  {
   "cell_type": "code",
   "execution_count": 13,
   "id": "17a8f1f3",
   "metadata": {},
   "outputs": [],
   "source": [
    "name_list=['tinon','turja','tori','rita','tapash']"
   ]
  },
  {
   "cell_type": "code",
   "execution_count": 15,
   "id": "6fb39164",
   "metadata": {
    "scrolled": false
   },
   "outputs": [
    {
     "data": {
      "text/plain": [
       "['tori', 'rita', 'tapash']"
      ]
     },
     "execution_count": 15,
     "metadata": {},
     "output_type": "execute_result"
    }
   ],
   "source": [
    "list(filter(lambda name:len(name)%2==0,name_list))"
   ]
  },
  {
   "cell_type": "code",
   "execution_count": 16,
   "id": "9d63b563",
   "metadata": {},
   "outputs": [
    {
     "data": {
      "text/plain": [
       "['t', 't', 't', 'r', 't']"
      ]
     },
     "execution_count": 16,
     "metadata": {},
     "output_type": "execute_result"
    }
   ],
   "source": [
    "list(map(lambda name:name[0],name_list))"
   ]
  },
  {
   "cell_type": "code",
   "execution_count": 17,
   "id": "7dcc3749",
   "metadata": {},
   "outputs": [
    {
     "data": {
      "text/plain": [
       "['nonit', 'ajrut', 'irot', 'atir', 'hsapat']"
      ]
     },
     "execution_count": 17,
     "metadata": {},
     "output_type": "execute_result"
    }
   ],
   "source": [
    "list(map(lambda name:name[::-1],name_list))"
   ]
  },
  {
   "cell_type": "code",
   "execution_count": 11,
   "id": "b79614ea",
   "metadata": {},
   "outputs": [
    {
     "data": {
      "text/plain": [
       "[1, 8, 27, 64, 125, 216]"
      ]
     },
     "execution_count": 11,
     "metadata": {},
     "output_type": "execute_result"
    }
   ],
   "source": [
    "list(map(lambda num:num**3,my_num))"
   ]
  },
  {
   "cell_type": "code",
   "execution_count": null,
   "id": "bef71043",
   "metadata": {},
   "outputs": [],
   "source": []
  }
 ],
 "metadata": {
  "kernelspec": {
   "display_name": "Python 3 (ipykernel)",
   "language": "python",
   "name": "python3"
  },
  "language_info": {
   "codemirror_mode": {
    "name": "ipython",
    "version": 3
   },
   "file_extension": ".py",
   "mimetype": "text/x-python",
   "name": "python",
   "nbconvert_exporter": "python",
   "pygments_lexer": "ipython3",
   "version": "3.11.5"
  }
 },
 "nbformat": 4,
 "nbformat_minor": 5
}
