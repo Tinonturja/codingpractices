{
 "cells": [
  {
   "cell_type": "code",
   "execution_count": 29,
   "id": "fbf4e4d7",
   "metadata": {},
   "outputs": [],
   "source": [
    "def spy_game(num):\n",
    "    list1=[0,0,7,'x']\n",
    "    for i in num:\n",
    "        if i==list1[0]:\n",
    "            \n",
    "            list1.pop(0)\n",
    "    return len(list1)==1"
   ]
  },
  {
   "cell_type": "code",
   "execution_count": 30,
   "id": "b394a804",
   "metadata": {},
   "outputs": [
    {
     "data": {
      "text/plain": [
       "True"
      ]
     },
     "execution_count": 30,
     "metadata": {},
     "output_type": "execute_result"
    }
   ],
   "source": [
    "spy_game([3,4,5,6,0,4,6,0,57,54,3,7,8])"
   ]
  },
  {
   "cell_type": "code",
   "execution_count": 7,
   "id": "cd4d4122",
   "metadata": {},
   "outputs": [
    {
     "name": "stdout",
     "output_type": "stream",
     "text": [
      "the letter t has the index 0\n",
      "the letter i has the index 1\n",
      "the letter n has the index 2\n",
      "the letter o has the index 3\n",
      "the letter n has the index 4\n"
     ]
    }
   ],
   "source": [
    "num1=\"tinon\"\n",
    "for i in range(len(num1)):\n",
    "    print(f\"the letter {num1[i]} has the index {i}\")"
   ]
  },
  {
   "cell_type": "code",
   "execution_count": 19,
   "id": "28a52864",
   "metadata": {},
   "outputs": [
    {
     "data": {
      "text/plain": [
       "0"
      ]
     },
     "execution_count": 19,
     "metadata": {},
     "output_type": "execute_result"
    }
   ],
   "source": [
    "list2=[0,0,7,'v']\n",
    "list2.pop(0)"
   ]
  },
  {
   "cell_type": "code",
   "execution_count": 20,
   "id": "3e4b8e96",
   "metadata": {},
   "outputs": [
    {
     "data": {
      "text/plain": [
       "[0, 7, 'v']"
      ]
     },
     "execution_count": 20,
     "metadata": {},
     "output_type": "execute_result"
    }
   ],
   "source": [
    "list2"
   ]
  },
  {
   "cell_type": "code",
   "execution_count": 36,
   "id": "de84c502",
   "metadata": {},
   "outputs": [
    {
     "name": "stdout",
     "output_type": "stream",
     "text": [
      "False\n"
     ]
    }
   ],
   "source": [
    "def contains_007_pattern(lst):\n",
    "    found_zero = False\n",
    "    found_double_zero = False\n",
    "\n",
    "    for num in lst:\n",
    "        if num == 0:\n",
    "            if found_double_zero:\n",
    "                return True  # Found the pattern 0, 0, and 7\n",
    "            found_zero = True\n",
    "        elif num == 7 and found_zero:\n",
    "            found_double_zero = True\n",
    "            found_zero = False\n",
    "\n",
    "    return False  # Pattern not found\n",
    "\n",
    "# Example usage:\n",
    "my_list = [1, 2, 0,6,0, 8, 7,9]\n",
    "result = contains_007_pattern(my_list)\n",
    "print(result)\n"
   ]
  },
  {
   "cell_type": "code",
   "execution_count": 47,
   "id": "b929e520",
   "metadata": {},
   "outputs": [],
   "source": [
    "#another way to do the spy game problelm\n",
    "def spy_final_game(num):\n",
    "    pattern=[0,0,7]\n",
    "    index=0\n",
    "    for i in num:\n",
    "        if i==pattern[index]:\n",
    "            index+=1\n",
    "            if index==len(pattern):\n",
    "                return True\n",
    "    return False"
   ]
  },
  {
   "cell_type": "code",
   "execution_count": 38,
   "id": "bda796cc",
   "metadata": {},
   "outputs": [
    {
     "data": {
      "text/plain": [
       "True"
      ]
     },
     "execution_count": 38,
     "metadata": {},
     "output_type": "execute_result"
    }
   ],
   "source": [
    "spy_final_game([32,4,45,0,23,24,345,23,0,34,23,7])"
   ]
  },
  {
   "cell_type": "code",
   "execution_count": 39,
   "id": "ab39fb1b",
   "metadata": {},
   "outputs": [
    {
     "data": {
      "text/plain": [
       "False"
      ]
     },
     "execution_count": 39,
     "metadata": {},
     "output_type": "execute_result"
    }
   ],
   "source": [
    "spy_final_game([12,23,7,34,23,0,34,435,0])"
   ]
  },
  {
   "cell_type": "code",
   "execution_count": 48,
   "id": "9b1c5f20",
   "metadata": {},
   "outputs": [
    {
     "data": {
      "text/plain": [
       "True"
      ]
     },
     "execution_count": 48,
     "metadata": {},
     "output_type": "execute_result"
    }
   ],
   "source": [
    "spy_final_game([12,24,0,13,1,0,7])\n",
    "#when i deliver list inside a function it will take it as a one positional argument.and if we pass tuples inside a function it will take all the element of tuples as positional argument"
   ]
  },
  {
   "cell_type": "markdown",
   "id": "8f22bf6c",
   "metadata": {},
   "source": [
    "# count prime numbers.write a function that returns the number of prime numbers that exist up to and including a given number"
   ]
  },
  {
   "cell_type": "code",
   "execution_count": 57,
   "id": "e761ac82",
   "metadata": {},
   "outputs": [],
   "source": [
    "def count_primes(prime):\n",
    "    prime_numbers=[2]\n",
    "    if prime<2:\n",
    "        return 0\n",
    "    x=3\n",
    "    while x<=prime:\n",
    "        for y in range(3,x,2):\n",
    "            if x%y==0:\n",
    "                x+=2\n",
    "                break\n",
    "                "
   ]
  },
  {
   "cell_type": "code",
   "execution_count": 58,
   "id": "285c3b06",
   "metadata": {},
   "outputs": [
    {
     "data": {
      "text/plain": [
       "[12,\n",
       " 12,\n",
       " 12,\n",
       " 12,\n",
       " 14,\n",
       " 14,\n",
       " 16,\n",
       " 16,\n",
       " 16,\n",
       " 21,\n",
       " 21,\n",
       " 22,\n",
       " 27,\n",
       " 27,\n",
       " 30,\n",
       " 30,\n",
       " 30,\n",
       " 30,\n",
       " 30,\n",
       " 33,\n",
       " 102,\n",
       " 102,\n",
       " 102,\n",
       " 104,\n",
       " 104,\n",
       " 104]"
      ]
     },
     "execution_count": 58,
     "metadata": {},
     "output_type": "execute_result"
    }
   ],
   "source": [
    "count_primes([10,11,12,13,14,16,17,19,21,22,23,27,30,33,101,102,103,104])"
   ]
  },
  {
   "cell_type": "code",
   "execution_count": 63,
   "id": "0a3d722f",
   "metadata": {},
   "outputs": [],
   "source": [
    "for i in range(3,30,2):\n",
    "    if i%3==0:\n",
    "        break\n",
    "        print(i)"
   ]
  },
  {
   "cell_type": "code",
   "execution_count": 66,
   "id": "4ccaaf2e",
   "metadata": {},
   "outputs": [
    {
     "name": "stdout",
     "output_type": "stream",
     "text": [
      "1\n",
      "2\n",
      "3\n"
     ]
    }
   ],
   "source": [
    "i=0\n",
    "while i<5:\n",
    "    if i==3:\n",
    "        break\n",
    "    i+=1\n",
    "    print(i)"
   ]
  },
  {
   "cell_type": "code",
   "execution_count": 71,
   "id": "c52b12a9",
   "metadata": {},
   "outputs": [
    {
     "name": "stdout",
     "output_type": "stream",
     "text": [
      "3\n",
      "5\n",
      "7\n",
      "9\n",
      "11\n",
      "13\n"
     ]
    }
   ],
   "source": [
    "for i in range(3,15,2):\n",
    "    print(i)"
   ]
  },
  {
   "cell_type": "code",
   "execution_count": 11,
   "id": "0e4c24fb",
   "metadata": {},
   "outputs": [],
   "source": [
    "def chck_prime(num):\n",
    "    if num<2:\n",
    "        return 0\n",
    "    prime=[2]\n",
    "    x=3\n",
    "    while x<=num:\n",
    "        for y in range(3,x,2):\n",
    "            if x%y==0:\n",
    "                x+=2\n",
    "                break\n",
    "        else:\n",
    "                prime.append(x)\n",
    "                x+=2\n",
    "    print(prime)"
   ]
  },
  {
   "cell_type": "code",
   "execution_count": 12,
   "id": "00b4b18f",
   "metadata": {},
   "outputs": [
    {
     "name": "stdout",
     "output_type": "stream",
     "text": [
      "[2, 3, 5, 7, 11, 13, 17, 19, 23, 29]\n"
     ]
    }
   ],
   "source": [
    "chck_prime(30)"
   ]
  },
  {
   "cell_type": "code",
   "execution_count": 4,
   "id": "067fdc19",
   "metadata": {},
   "outputs": [
    {
     "name": "stdout",
     "output_type": "stream",
     "text": [
      "1\n",
      "2\n",
      "3\n",
      "Breaking loop at 3\n",
      "Outside of the loop\n"
     ]
    }
   ],
   "source": [
    "numbers = [1, 2, 3, 4, 5]\n",
    "\n",
    "for num in numbers:\n",
    "    print(num)\n",
    "    if num == 3:\n",
    "        print(\"Breaking loop at 3\")\n",
    "        break\n",
    "else:\n",
    "    print(\"Loop completed without encountering a break statement\")\n",
    "\n",
    "print(\"Outside of the loop\")\n"
   ]
  },
  {
   "cell_type": "code",
   "execution_count": 8,
   "id": "3f131b76",
   "metadata": {},
   "outputs": [
    {
     "name": "stdout",
     "output_type": "stream",
     "text": [
      "the number is [1, 2, 3, 4, 5, 6, 7, 7]\n"
     ]
    }
   ],
   "source": [
    "numbers =[1,2,3,4,5,6,7]\n",
    "for num in numbers:\n",
    "    if num>40:\n",
    "        print(\"breaking at loop 4\")\n",
    "        break\n",
    "else:\n",
    "    numbers.append(num)\n",
    "    print(f\"the number is {numbers}\")"
   ]
  },
  {
   "cell_type": "code",
   "execution_count": 13,
   "id": "16e566f1",
   "metadata": {},
   "outputs": [
    {
     "ename": "TypeError",
     "evalue": "'list' object cannot be interpreted as an integer",
     "output_type": "error",
     "traceback": [
      "\u001b[0;31m---------------------------------------------------------------------------\u001b[0m",
      "\u001b[0;31mTypeError\u001b[0m                                 Traceback (most recent call last)",
      "Cell \u001b[0;32mIn[13], line 2\u001b[0m\n\u001b[1;32m      1\u001b[0m list1\u001b[38;5;241m=\u001b[39m[\u001b[38;5;241m2\u001b[39m,\u001b[38;5;241m3\u001b[39m,\u001b[38;5;241m5\u001b[39m]\n\u001b[0;32m----> 2\u001b[0m \u001b[38;5;28;01mfor\u001b[39;00m y \u001b[38;5;129;01min\u001b[39;00m \u001b[38;5;28mrange\u001b[39m(list1):\n\u001b[1;32m      3\u001b[0m     \u001b[38;5;28mprint\u001b[39m(y)\n",
      "\u001b[0;31mTypeError\u001b[0m: 'list' object cannot be interpreted as an integer"
     ]
    }
   ],
   "source": [
    "list1=[2,3,5]\n",
    "for y in range(list1):\n",
    "    print(y)"
   ]
  },
  {
   "cell_type": "code",
   "execution_count": null,
   "id": "d3815b71",
   "metadata": {},
   "outputs": [],
   "source": [
    "#write a function that takes in a single letter and returns a 5*5 representation of it\n"
   ]
  }
 ],
 "metadata": {
  "kernelspec": {
   "display_name": "Python 3 (ipykernel)",
   "language": "python",
   "name": "python3"
  },
  "language_info": {
   "codemirror_mode": {
    "name": "ipython",
    "version": 3
   },
   "file_extension": ".py",
   "mimetype": "text/x-python",
   "name": "python",
   "nbconvert_exporter": "python",
   "pygments_lexer": "ipython3",
   "version": "3.11.5"
  }
 },
 "nbformat": 4,
 "nbformat_minor": 5
}
