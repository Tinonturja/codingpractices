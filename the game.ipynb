{
 "cells": [
  {
   "cell_type": "code",
   "execution_count": 2,
   "id": "9f0a4ff9",
   "metadata": {},
   "outputs": [],
   "source": [
    "from random import shuffle"
   ]
  },
  {
   "cell_type": "code",
   "execution_count": 5,
   "id": "477c0413",
   "metadata": {},
   "outputs": [],
   "source": [
    "def slist(list1):\n",
    "    shuffle(list1)\n",
    "    return list1"
   ]
  },
  {
   "cell_type": "code",
   "execution_count": 12,
   "id": "ea210558",
   "metadata": {},
   "outputs": [],
   "source": [
    "y=slist([' ','O',' '])"
   ]
  },
  {
   "cell_type": "code",
   "execution_count": 13,
   "id": "fc05d0a8",
   "metadata": {},
   "outputs": [
    {
     "data": {
      "text/plain": [
       "[' ', ' ', 'O']"
      ]
     },
     "execution_count": 13,
     "metadata": {},
     "output_type": "execute_result"
    }
   ],
   "source": [
    "y"
   ]
  },
  {
   "cell_type": "code",
   "execution_count": null,
   "id": "5b009727",
   "metadata": {},
   "outputs": [],
   "source": [
    "def your_guess():\n",
    "    "
   ]
  }
 ],
 "metadata": {
  "kernelspec": {
   "display_name": "Python 3 (ipykernel)",
   "language": "python",
   "name": "python3"
  },
  "language_info": {
   "codemirror_mode": {
    "name": "ipython",
    "version": 3
   },
   "file_extension": ".py",
   "mimetype": "text/x-python",
   "name": "python",
   "nbconvert_exporter": "python",
   "pygments_lexer": "ipython3",
   "version": "3.11.5"
  }
 },
 "nbformat": 4,
 "nbformat_minor": 5
}
