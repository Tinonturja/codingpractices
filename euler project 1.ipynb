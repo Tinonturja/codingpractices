{
 "cells": [
  {
   "cell_type": "code",
   "execution_count": null,
   "id": "f1c237d0",
   "metadata": {},
   "outputs": [],
   "source": [
    "'''If we list all the natural numbers below 10 that are multiples of 3 or 5, we get3,5,6 and 9. The sum of these \n",
    "multiples is 23\n",
    "\n",
    ".\n",
    "\n",
    "Find the sum of all the multiples of 3 \n",
    "or 5 below 1000.''' "
   ]
  },
  {
   "cell_type": "code",
   "execution_count": 55,
   "id": "446bfb68",
   "metadata": {},
   "outputs": [],
   "source": [
    "def sumof3():\n",
    "    x=0\n",
    "    y=1\n",
    "    z=[]\n",
    "    while 3*y<1000:\n",
    "        x=3*y\n",
    "        y+=1\n",
    "        z.append(x)\n",
    "    return z"
   ]
  },
  {
   "cell_type": "code",
   "execution_count": 56,
   "id": "138d269c",
   "metadata": {},
   "outputs": [],
   "source": [
    "def sumof5():\n",
    "    x=0\n",
    "    y=1\n",
    "    z=[]\n",
    "    while 5*y<1000:\n",
    "        x=5*y\n",
    "        y+=1\n",
    "        z.append(x)\n",
    "    return z"
   ]
  },
  {
   "cell_type": "code",
   "execution_count": 58,
   "id": "04b06ab1",
   "metadata": {},
   "outputs": [],
   "source": [
    "m3=sumof3()\n",
    "m4=sumof5()"
   ]
  },
  {
   "cell_type": "code",
   "execution_count": 59,
   "id": "b4100f46",
   "metadata": {},
   "outputs": [],
   "source": [
    "def commonelements(m3,m4):\n",
    "    common=list(set(m3).intersection(m4))\n",
    "    return common"
   ]
  },
  {
   "cell_type": "code",
   "execution_count": 60,
   "id": "6cf3ab54",
   "metadata": {},
   "outputs": [],
   "source": [
    "m5=commonelements(m3,m4)\n"
   ]
  },
  {
   "cell_type": "code",
   "execution_count": 61,
   "id": "6183f720",
   "metadata": {},
   "outputs": [],
   "source": [
    "def subtract_common_elements(m3, m5):\n",
    "    common = set(m3).intersection(m5)\n",
    "    result = [item for item in m3 if item not in common]\n",
    "    return result\n"
   ]
  },
  {
   "cell_type": "code",
   "execution_count": 63,
   "id": "2ed75e46",
   "metadata": {},
   "outputs": [],
   "source": [
    "m6=subtract_common_elements(m3,m5)"
   ]
  },
  {
   "cell_type": "code",
   "execution_count": 65,
   "id": "cfbedea4",
   "metadata": {},
   "outputs": [],
   "source": [
    "m7=m4+m6"
   ]
  },
  {
   "cell_type": "code",
   "execution_count": 67,
   "id": "2a49ac52",
   "metadata": {},
   "outputs": [
    {
     "data": {
      "text/plain": [
       "233168"
      ]
     },
     "execution_count": 67,
     "metadata": {},
     "output_type": "execute_result"
    }
   ],
   "source": [
    "sum(m7)"
   ]
  },
  {
   "cell_type": "code",
   "execution_count": 70,
   "id": "1eb74978",
   "metadata": {},
   "outputs": [
    {
     "name": "stdout",
     "output_type": "stream",
     "text": [
      "233168\n"
     ]
    }
   ],
   "source": [
    "target=1000\n",
    "sum1=0\n",
    "for numbers in range(target):\n",
    "    if numbers%3==0 or numbers%5==0:\n",
    "        sum1+=numbers\n",
    "print(sum1)"
   ]
  },
  {
   "cell_type": "code",
   "execution_count": null,
   "id": "3d020487",
   "metadata": {},
   "outputs": [],
   "source": []
  }
 ],
 "metadata": {
  "kernelspec": {
   "display_name": "Python 3 (ipykernel)",
   "language": "python",
   "name": "python3"
  },
  "language_info": {
   "codemirror_mode": {
    "name": "ipython",
    "version": 3
   },
   "file_extension": ".py",
   "mimetype": "text/x-python",
   "name": "python",
   "nbconvert_exporter": "python",
   "pygments_lexer": "ipython3",
   "version": "3.11.5"
  }
 },
 "nbformat": 4,
 "nbformat_minor": 5
}
