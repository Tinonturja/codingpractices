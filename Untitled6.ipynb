{
 "cells": [
  {
   "cell_type": "code",
   "execution_count": 5,
   "id": "6e557fc3",
   "metadata": {},
   "outputs": [],
   "source": [
    "def chck_prime_num(num):\n",
    "    count=0\n",
    "    for i in range(1,num+1):#say 10>>i(1,11)>>1,2,3,4,5,6,7,8,9,10\n",
    "        if num%i==0:#10%1/10%2(c=2)/10%3(c=2)/10%4(c=2)/10%5(c=3)/10%6(c=3)/10%7(c=3)/10%8(c=3)/10%9(c=3)/10%10(c=4)\n",
    "            count+=1\n",
    "        else:\n",
    "            count=count\n",
    "    if count==2:\n",
    "        print(\"odd\")\n",
    "    else:\n",
    "        print(\"even\")"
   ]
  },
  {
   "cell_type": "code",
   "execution_count": 7,
   "id": "d0639850",
   "metadata": {},
   "outputs": [
    {
     "name": "stdout",
     "output_type": "stream",
     "text": [
      "even\n"
     ]
    }
   ],
   "source": [
    "chck_prime_num(10)"
   ]
  },
  {
   "cell_type": "code",
   "execution_count": 8,
   "id": "7c56d419",
   "metadata": {},
   "outputs": [
    {
     "data": {
      "text/plain": [
       "True"
      ]
     },
     "execution_count": 8,
     "metadata": {},
     "output_type": "execute_result"
    }
   ],
   "source": [
    "from sympy import *\n",
    "isprime(23)"
   ]
  },
  {
   "cell_type": "code",
   "execution_count": 9,
   "id": "d951a33d",
   "metadata": {},
   "outputs": [
    {
     "data": {
      "text/plain": [
       "5"
      ]
     },
     "execution_count": 9,
     "metadata": {},
     "output_type": "execute_result"
    }
   ],
   "source": [
    "int((23**.5)+1)"
   ]
  },
  {
   "cell_type": "code",
   "execution_count": 11,
   "id": "5112a6af",
   "metadata": {},
   "outputs": [],
   "source": [
    "def divisibility_chck(n):\n",
    "    ls=[]\n",
    "    for i in range(1,n+1):\n",
    "        if n%i==0:\n",
    "            ls.append(i)\n",
    "        else:\n",
    "            pass\n",
    "    return ls\n",
    "            "
   ]
  },
  {
   "cell_type": "code",
   "execution_count": 12,
   "id": "38743ba2",
   "metadata": {},
   "outputs": [
    {
     "data": {
      "text/plain": [
       "[1, 2, 5, 10]"
      ]
     },
     "execution_count": 12,
     "metadata": {},
     "output_type": "execute_result"
    }
   ],
   "source": [
    "divisibility_chck(10)"
   ]
  },
  {
   "cell_type": "code",
   "execution_count": null,
   "id": "5060b820",
   "metadata": {},
   "outputs": [],
   "source": [
    "def is_prime_num(num):\n",
    "    count = 0\n",
    "    for i in range(1, num + 1):\n",
    "        if num % i == 0:\n",
    "            count += 1\n",
    "    return count == 2\n",
    "\n",
    "def prime_divisors_combined(num):\n",
    "    prime_divs = []\n",
    "    divisors = divisibility_chck(num)\n",
    "    \n",
    "    for divisor in divisors:\n",
    "        if is_prime_num(divisor):\n",
    "            prime_divs.append(divisor)\n",
    "    \n",
    "    return prime_divs[-1]\n",
    "\n",
    "\n",
    "\n",
    "    "
   ]
  },
  {
   "cell_type": "code",
   "execution_count": 17,
   "id": "54a1d055",
   "metadata": {},
   "outputs": [
    {
     "data": {
      "text/plain": [
       "5"
      ]
     },
     "execution_count": 17,
     "metadata": {},
     "output_type": "execute_result"
    }
   ],
   "source": [
    "prime_divisors_combined(30)"
   ]
  },
  {
   "cell_type": "code",
   "execution_count": 18,
   "id": "3eea4a91",
   "metadata": {},
   "outputs": [
    {
     "data": {
      "text/plain": [
       "29"
      ]
     },
     "execution_count": 18,
     "metadata": {},
     "output_type": "execute_result"
    }
   ],
   "source": [
    "prime_divisors_combined(13195)"
   ]
  },
  {
   "cell_type": "code",
   "execution_count": null,
   "id": "97dc4cff",
   "metadata": {},
   "outputs": [],
   "source": [
    "prime_divisors_combined(600851475143)"
   ]
  },
  {
   "cell_type": "code",
   "execution_count": 1,
   "id": "81c232bc",
   "metadata": {},
   "outputs": [],
   "source": [
    "def largest_prime_factor(number):\n",
    "    i = 2\n",
    "    while i * i <= number:\n",
    "        if number % i:\n",
    "            i += 1\n",
    "        else:\n",
    "            number //= i\n",
    "    return number\n"
   ]
  },
  {
   "cell_type": "code",
   "execution_count": 2,
   "id": "cc4d754c",
   "metadata": {},
   "outputs": [
    {
     "data": {
      "text/plain": [
       "6857"
      ]
     },
     "execution_count": 2,
     "metadata": {},
     "output_type": "execute_result"
    }
   ],
   "source": [
    "largest_prime_factor(600851475143)"
   ]
  },
  {
   "cell_type": "markdown",
   "id": "2c2f4c24",
   "metadata": {},
   "source": [
    "# A palindromic number reads the same both ways. The largest palindrome made from the product of two -digit numbers is\n",
    "9009=91*99\n",
    ".\n",
    "\n",
    "Find the largest palindrome made from the product of two\n",
    "-digit numbers."
   ]
  },
  {
   "cell_type": "code",
   "execution_count": 6,
   "id": "82fde9d5",
   "metadata": {},
   "outputs": [
    {
     "name": "stdout",
     "output_type": "stream",
     "text": [
      "enter a 3 digit number9009\n",
      "enter a 3 digit number0909\n",
      "hudai\n"
     ]
    }
   ],
   "source": [
    "x=(input(\"enter a 3 digit number\"))\n",
    "y=(input(\"enter a 3 digit number\"))\n",
    "if x[::1]==y[::-1]:\n",
    "    print(\"palindrome\")\n",
    "else:\n",
    "    print(\"hudai\")"
   ]
  },
  {
   "cell_type": "code",
   "execution_count": null,
   "id": "a7dbecae",
   "metadata": {},
   "outputs": [],
   "source": []
  }
 ],
 "metadata": {
  "kernelspec": {
   "display_name": "Python 3 (ipykernel)",
   "language": "python",
   "name": "python3"
  },
  "language_info": {
   "codemirror_mode": {
    "name": "ipython",
    "version": 3
   },
   "file_extension": ".py",
   "mimetype": "text/x-python",
   "name": "python",
   "nbconvert_exporter": "python",
   "pygments_lexer": "ipython3",
   "version": "3.11.5"
  }
 },
 "nbformat": 4,
 "nbformat_minor": 5
}
