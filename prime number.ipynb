{
 "cells": [
  {
   "cell_type": "code",
   "execution_count": null,
   "id": "69a06b0a",
   "metadata": {},
   "outputs": [],
   "source": [
    "def prime_num(num):\n",
    "    if num<2:\n",
    "        return 0\n",
    "    prime_number=[2]\n",
    "    x=3\n",
    "    while x<num:\n",
    "        for y in range(3,x,2):\n",
    "            x%y==0\n",
    "            x+=2\n",
    "            prime_number.append(x)\n",
    "    return prime_number"
   ]
  },
  {
   "cell_type": "code",
   "execution_count": null,
   "id": "4850be90",
   "metadata": {},
   "outputs": [],
   "source": [
    "prime_num(20)"
   ]
  },
  {
   "cell_type": "code",
   "execution_count": null,
   "id": "49b8dcee",
   "metadata": {},
   "outputs": [],
   "source": [
    "2"
   ]
  },
  {
   "cell_type": "code",
   "execution_count": null,
   "id": "13e8f4e2",
   "metadata": {},
   "outputs": [],
   "source": []
  }
 ],
 "metadata": {
  "kernelspec": {
   "display_name": "Python 3 (ipykernel)",
   "language": "python",
   "name": "python3"
  },
  "language_info": {
   "codemirror_mode": {
    "name": "ipython",
    "version": 3
   },
   "file_extension": ".py",
   "mimetype": "text/x-python",
   "name": "python",
   "nbconvert_exporter": "python",
   "pygments_lexer": "ipython3",
   "version": "3.11.5"
  }
 },
 "nbformat": 4,
 "nbformat_minor": 5
}
