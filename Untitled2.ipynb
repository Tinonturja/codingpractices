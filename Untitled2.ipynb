{
 "cells": [
  {
   "cell_type": "code",
   "execution_count": 1,
   "id": "d0c63b7e",
   "metadata": {},
   "outputs": [],
   "source": [
    "mylist=[' ','O',' ']\n",
    "from random import shuffle"
   ]
  },
  {
   "cell_type": "code",
   "execution_count": 4,
   "id": "5be66217",
   "metadata": {},
   "outputs": [],
   "source": [
    "def shuf(x):\n",
    "    shuffle(x)\n",
    "    return x\n",
    "y=shuf(mylist)"
   ]
  },
  {
   "cell_type": "code",
   "execution_count": 5,
   "id": "f53016a4",
   "metadata": {},
   "outputs": [
    {
     "name": "stdout",
     "output_type": "stream",
     "text": [
      "[' ', ' ', 'O']\n"
     ]
    }
   ],
   "source": [
    "print(y)"
   ]
  },
  {
   "cell_type": "code",
   "execution_count": 8,
   "id": "1f094bb4",
   "metadata": {},
   "outputs": [
    {
     "name": "stdout",
     "output_type": "stream",
     "text": [
      "enter your guess. Which must be 0,1 or 2\n",
      "34\n",
      "enter your guess. Which must be 0,1 or 2\n",
      "2\n",
      "2\n"
     ]
    }
   ],
   "source": [
    "def guess():\n",
    "    x=int(input(\"enter your guess. Which must be 0,1 or 2\\n\"))\n",
    "    while x not in [0,1,2]:\n",
    "        x=int(input(\"enter your guess. Which must be 0,1 or 2\\n\"))\n",
    "    return x\n",
    "z=guess()\n",
    "print(z)"
   ]
  },
  {
   "cell_type": "code",
   "execution_count": 10,
   "id": "a298dd35",
   "metadata": {},
   "outputs": [],
   "source": [
    "def chck_guess(guess,actual):\n",
    "    actual=[]\n",
    "    if actual[guess].upper()=='o':\n",
    "        print(\"your guess is right\")\n",
    "    else:\n",
    "        print(\"your guess is not right\")\n",
    "    return actual\n",
    "\n",
    "    "
   ]
  },
  {
   "cell_type": "code",
   "execution_count": 13,
   "id": "7a9a8a34",
   "metadata": {},
   "outputs": [
    {
     "name": "stdout",
     "output_type": "stream",
     "text": [
      "2\n"
     ]
    },
    {
     "ename": "IndexError",
     "evalue": "list index out of range",
     "output_type": "error",
     "traceback": [
      "\u001b[0;31m---------------------------------------------------------------------------\u001b[0m",
      "\u001b[0;31mIndexError\u001b[0m                                Traceback (most recent call last)",
      "Cell \u001b[0;32mIn[13], line 4\u001b[0m\n\u001b[1;32m      2\u001b[0m y\u001b[38;5;241m=\u001b[39mshuf(my_initial_list)\n\u001b[1;32m      3\u001b[0m \u001b[38;5;28mprint\u001b[39m(z)\n\u001b[0;32m----> 4\u001b[0m chck_guess(z,y)\n",
      "Cell \u001b[0;32mIn[10], line 3\u001b[0m, in \u001b[0;36mchck_guess\u001b[0;34m(guess, actual)\u001b[0m\n\u001b[1;32m      1\u001b[0m \u001b[38;5;28;01mdef\u001b[39;00m \u001b[38;5;21mchck_guess\u001b[39m(guess,actual):\n\u001b[1;32m      2\u001b[0m     actual\u001b[38;5;241m=\u001b[39m[]\n\u001b[0;32m----> 3\u001b[0m     \u001b[38;5;28;01mif\u001b[39;00m actual[guess]\u001b[38;5;241m.\u001b[39mupper()\u001b[38;5;241m==\u001b[39m\u001b[38;5;124m'\u001b[39m\u001b[38;5;124mo\u001b[39m\u001b[38;5;124m'\u001b[39m:\n\u001b[1;32m      4\u001b[0m         \u001b[38;5;28mprint\u001b[39m(\u001b[38;5;124m\"\u001b[39m\u001b[38;5;124myour guess is right\u001b[39m\u001b[38;5;124m\"\u001b[39m)\n\u001b[1;32m      5\u001b[0m     \u001b[38;5;28;01melse\u001b[39;00m:\n",
      "\u001b[0;31mIndexError\u001b[0m: list index out of range"
     ]
    }
   ],
   "source": [
    "my_initial_list=[' ',' ','O']\n",
    "y=shuf(my_initial_list)\n",
    "print(z)\n",
    "chck_guess(z,y)"
   ]
  },
  {
   "cell_type": "code",
   "execution_count": null,
   "id": "7cab3898",
   "metadata": {},
   "outputs": [],
   "source": []
  }
 ],
 "metadata": {
  "kernelspec": {
   "display_name": "Python 3 (ipykernel)",
   "language": "python",
   "name": "python3"
  },
  "language_info": {
   "codemirror_mode": {
    "name": "ipython",
    "version": 3
   },
   "file_extension": ".py",
   "mimetype": "text/x-python",
   "name": "python",
   "nbconvert_exporter": "python",
   "pygments_lexer": "ipython3",
   "version": "3.11.5"
  }
 },
 "nbformat": 4,
 "nbformat_minor": 5
}
