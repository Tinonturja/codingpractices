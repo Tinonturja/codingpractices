{
 "cells": [
  {
   "cell_type": "code",
   "execution_count": 1,
   "id": "a63388cb",
   "metadata": {},
   "outputs": [],
   "source": [
    "'''write a function that capitalize the first and fourth letters of a name'''\n",
    "def cap(stri):\n",
    "    \n",
    "    stri[0]=stri.upper()\n",
    "    stri[3]=stri.upper()\n",
    "    return stri\n",
    "        "
   ]
  },
  {
   "cell_type": "code",
   "execution_count": 2,
   "id": "16d8a447",
   "metadata": {},
   "outputs": [
    {
     "ename": "TypeError",
     "evalue": "'str' object does not support item assignment",
     "output_type": "error",
     "traceback": [
      "\u001b[0;31m---------------------------------------------------------------------------\u001b[0m",
      "\u001b[0;31mTypeError\u001b[0m                                 Traceback (most recent call last)",
      "Cell \u001b[0;32mIn[2], line 1\u001b[0m\n\u001b[0;32m----> 1\u001b[0m cap(\u001b[38;5;124m\"\u001b[39m\u001b[38;5;124mmy name is shila\u001b[39m\u001b[38;5;124m\"\u001b[39m)\n",
      "Cell \u001b[0;32mIn[1], line 4\u001b[0m, in \u001b[0;36mcap\u001b[0;34m(stri)\u001b[0m\n\u001b[1;32m      2\u001b[0m \u001b[38;5;28;01mdef\u001b[39;00m \u001b[38;5;21mcap\u001b[39m(stri):\n\u001b[0;32m----> 4\u001b[0m     stri[\u001b[38;5;241m0\u001b[39m]\u001b[38;5;241m=\u001b[39mstri\u001b[38;5;241m.\u001b[39mupper()\n\u001b[1;32m      5\u001b[0m     stri[\u001b[38;5;241m3\u001b[39m]\u001b[38;5;241m=\u001b[39mstri\u001b[38;5;241m.\u001b[39mupper()\n\u001b[1;32m      6\u001b[0m     \u001b[38;5;28;01mreturn\u001b[39;00m stri\n",
      "\u001b[0;31mTypeError\u001b[0m: 'str' object does not support item assignment"
     ]
    }
   ],
   "source": [
    "cap('my name is shila')"
   ]
  },
  {
   "cell_type": "code",
   "execution_count": 7,
   "id": "ff62f5f0",
   "metadata": {},
   "outputs": [
    {
     "ename": "AttributeError",
     "evalue": "'str' object has no attribute 'list'",
     "output_type": "error",
     "traceback": [
      "\u001b[0;31m---------------------------------------------------------------------------\u001b[0m",
      "\u001b[0;31mAttributeError\u001b[0m                            Traceback (most recent call last)",
      "Cell \u001b[0;32mIn[7], line 2\u001b[0m\n\u001b[1;32m      1\u001b[0m name\u001b[38;5;241m=\u001b[39m\u001b[38;5;124m'\u001b[39m\u001b[38;5;124mtinon turja\u001b[39m\u001b[38;5;124m'\u001b[39m\n\u001b[0;32m----> 2\u001b[0m x\u001b[38;5;241m.\u001b[39mlist\u001b[38;5;241m=\u001b[39m\u001b[38;5;28mlist\u001b[39m(name)\n\u001b[1;32m      3\u001b[0m x\u001b[38;5;241m.\u001b[39mlist[\u001b[38;5;241m0\u001b[39m]\u001b[38;5;241m=\u001b[39mx\u001b[38;5;241m.\u001b[39mlist\u001b[38;5;241m.\u001b[39mupper()\n",
      "\u001b[0;31mAttributeError\u001b[0m: 'str' object has no attribute 'list'"
     ]
    }
   ],
   "source": [
    "name='tinon turja'\n",
    "x.list=list(name)\n",
    "x.list[0]=x.list.upper()"
   ]
  },
  {
   "cell_type": "code",
   "execution_count": 13,
   "id": "4f3d51d7",
   "metadata": {},
   "outputs": [
    {
     "name": "stdout",
     "output_type": "stream",
     "text": [
      "TinOn turja\n"
     ]
    }
   ],
   "source": [
    "name='tinon turja'\n",
    "x=list(name)\n",
    "x[0]=x[0].upper()\n",
    "x[3]=x[3].upper()\n",
    "modified_x=''.join(x)\n",
    "\n",
    "print(modified_x)"
   ]
  },
  {
   "cell_type": "code",
   "execution_count": 28,
   "id": "c0a19706",
   "metadata": {},
   "outputs": [],
   "source": [
    "def chngletter(name):\n",
    "    first_half=name[0]\n",
    "    in_between=name[1:3]\n",
    "    \n",
    "    final_half=name[3]\n",
    "    rest=name[4:]\n",
    "    return first_half.upper()+in_between+final_half.upper()+rest\n"
   ]
  },
  {
   "cell_type": "code",
   "execution_count": 29,
   "id": "f0216fb9",
   "metadata": {},
   "outputs": [
    {
     "data": {
      "text/plain": [
       "'TinOnturja'"
      ]
     },
     "execution_count": 29,
     "metadata": {},
     "output_type": "execute_result"
    }
   ],
   "source": [
    "chngletter(\"tinonturja\")"
   ]
  },
  {
   "cell_type": "code",
   "execution_count": 32,
   "id": "4ef4afd7",
   "metadata": {},
   "outputs": [],
   "source": [
    "def chng(name):\n",
    "    first_half=name[:3]\n",
    "    second_half=name[3:]\n",
    "    return first_half.upper()+second_half"
   ]
  },
  {
   "cell_type": "code",
   "execution_count": 33,
   "id": "494fd979",
   "metadata": {},
   "outputs": [
    {
     "data": {
      "text/plain": [
       "'TINonturja'"
      ]
     },
     "execution_count": 33,
     "metadata": {},
     "output_type": "execute_result"
    }
   ],
   "source": [
    "chng(\"tinonturja\")"
   ]
  },
  {
   "cell_type": "code",
   "execution_count": 34,
   "id": "13f3546e",
   "metadata": {},
   "outputs": [],
   "source": [
    "'''my(\"i am home\")->>>home am i\n",
    "my(\"we are ready\")--->>>ready we are'''\n",
    "\n",
    "def masteryoda(name):\n",
    "    x=name[::-1]\n",
    "    return x\n",
    "\n"
   ]
  },
  {
   "cell_type": "code",
   "execution_count": 35,
   "id": "cc5db0ef",
   "metadata": {},
   "outputs": [
    {
     "data": {
      "text/plain": [
       "'emoh ma i'"
      ]
     },
     "execution_count": 35,
     "metadata": {},
     "output_type": "execute_result"
    }
   ],
   "source": [
    "masteryoda(\"i am home\")"
   ]
  },
  {
   "cell_type": "code",
   "execution_count": 2,
   "id": "021d1513",
   "metadata": {},
   "outputs": [],
   "source": [
    "stre=\"i am home\"\n",
    "x=stre.split()"
   ]
  },
  {
   "cell_type": "code",
   "execution_count": 3,
   "id": "eb4b8b79",
   "metadata": {},
   "outputs": [
    {
     "data": {
      "text/plain": [
       "['i', 'am', 'home']"
      ]
     },
     "execution_count": 3,
     "metadata": {},
     "output_type": "execute_result"
    }
   ],
   "source": [
    "x"
   ]
  },
  {
   "cell_type": "code",
   "execution_count": 4,
   "id": "b7b17ade",
   "metadata": {},
   "outputs": [
    {
     "data": {
      "text/plain": [
       "list"
      ]
     },
     "execution_count": 4,
     "metadata": {},
     "output_type": "execute_result"
    }
   ],
   "source": [
    "type(x)"
   ]
  },
  {
   "cell_type": "code",
   "execution_count": 18,
   "id": "8fca869f",
   "metadata": {},
   "outputs": [],
   "source": [
    "def mastyoda(revers):\n",
    "    x=revers.split()\n",
    "    y=x[::-1]\n",
    "    return ' '.join(y)"
   ]
  },
  {
   "cell_type": "code",
   "execution_count": 19,
   "id": "2ba350db",
   "metadata": {},
   "outputs": [
    {
     "data": {
      "text/plain": [
       "'ready am i'"
      ]
     },
     "execution_count": 19,
     "metadata": {},
     "output_type": "execute_result"
    }
   ],
   "source": [
    "mastyoda(\"i am ready\")"
   ]
  },
  {
   "cell_type": "code",
   "execution_count": 12,
   "id": "d5abe6ec",
   "metadata": {},
   "outputs": [],
   "source": [
    "list1=[1,2,3,4,5]\n",
    "x=list1[::-1]"
   ]
  },
  {
   "cell_type": "code",
   "execution_count": 13,
   "id": "84c33e2e",
   "metadata": {},
   "outputs": [
    {
     "data": {
      "text/plain": [
       "[5, 4, 3, 2, 1]"
      ]
     },
     "execution_count": 13,
     "metadata": {},
     "output_type": "execute_result"
    }
   ],
   "source": [
    "x"
   ]
  },
  {
   "cell_type": "code",
   "execution_count": 20,
   "id": "c6dc3c15",
   "metadata": {},
   "outputs": [
    {
     "data": {
      "text/plain": [
       "'ready are we'"
      ]
     },
     "execution_count": 20,
     "metadata": {},
     "output_type": "execute_result"
    }
   ],
   "source": [
    "mastyoda(\"we are ready\")"
   ]
  },
  {
   "cell_type": "code",
   "execution_count": 27,
   "id": "3b926874",
   "metadata": {},
   "outputs": [],
   "source": [
    "'''given an integer n and return true if n is within 10 of 100 or 200'''\n",
    "def numchck(num):\n",
    "    if num in range(100,111) or range(190,211):\n",
    "        print (num)\n",
    "        return True\n",
    "    else:\n",
    "        return False\n",
    "\n"
   ]
  },
  {
   "cell_type": "code",
   "execution_count": 28,
   "id": "f45e2ef6",
   "metadata": {},
   "outputs": [
    {
     "name": "stdout",
     "output_type": "stream",
     "text": [
      "95\n"
     ]
    },
    {
     "data": {
      "text/plain": [
       "True"
      ]
     },
     "execution_count": 28,
     "metadata": {},
     "output_type": "execute_result"
    }
   ],
   "source": [
    "numchck(95)"
   ]
  },
  {
   "cell_type": "code",
   "execution_count": 24,
   "id": "21bd73db",
   "metadata": {},
   "outputs": [
    {
     "data": {
      "text/plain": [
       "True"
      ]
     },
     "execution_count": 24,
     "metadata": {},
     "output_type": "execute_result"
    }
   ],
   "source": [
    "numchck(197)"
   ]
  },
  {
   "cell_type": "code",
   "execution_count": 31,
   "id": "4fc9a3cf",
   "metadata": {},
   "outputs": [
    {
     "name": "stdout",
     "output_type": "stream",
     "text": [
      "90\n",
      "91\n",
      "92\n",
      "93\n",
      "94\n",
      "95\n",
      "96\n",
      "97\n",
      "98\n",
      "99\n",
      "100\n",
      "101\n",
      "102\n",
      "103\n",
      "104\n",
      "105\n",
      "106\n",
      "107\n",
      "108\n",
      "109\n",
      "110\n"
     ]
    }
   ],
   "source": [
    "for num in range(90,111):\n",
    "    print (num)"
   ]
  },
  {
   "cell_type": "code",
   "execution_count": 32,
   "id": "e0becf29",
   "metadata": {},
   "outputs": [
    {
     "name": "stdout",
     "output_type": "stream",
     "text": [
      "500\n"
     ]
    },
    {
     "data": {
      "text/plain": [
       "True"
      ]
     },
     "execution_count": 32,
     "metadata": {},
     "output_type": "execute_result"
    }
   ],
   "source": [
    "numchck(500)"
   ]
  },
  {
   "cell_type": "code",
   "execution_count": 40,
   "id": "83434904",
   "metadata": {},
   "outputs": [],
   "source": [
    "def almost_there(num):\n",
    "    return (abs(100-num)<=10) or (abs(200-num)<=10)"
   ]
  },
  {
   "cell_type": "code",
   "execution_count": 38,
   "id": "37053094",
   "metadata": {},
   "outputs": [
    {
     "data": {
      "text/plain": [
       "True"
      ]
     },
     "execution_count": 38,
     "metadata": {},
     "output_type": "execute_result"
    }
   ],
   "source": [
    "almost_there(109)"
   ]
  },
  {
   "cell_type": "code",
   "execution_count": 39,
   "id": "c043a366",
   "metadata": {},
   "outputs": [
    {
     "data": {
      "text/plain": [
       "False"
      ]
     },
     "execution_count": 39,
     "metadata": {},
     "output_type": "execute_result"
    }
   ],
   "source": [
    "almost_there(235)"
   ]
  },
  {
   "cell_type": "code",
   "execution_count": 55,
   "id": "be330cd6",
   "metadata": {},
   "outputs": [
    {
     "name": "stdout",
     "output_type": "stream",
     "text": [
      "4\n",
      "(0, 1)\n",
      "(1, 2)\n",
      "(2, 4)\n",
      "(3, 5)\n",
      "(4, 3)\n",
      "(5, 6)\n",
      "(6, 7)\n",
      "(7, 8)\n"
     ]
    }
   ],
   "source": [
    "#given a list of int.the functions come out true if the array contains a 3 after a 3\n",
    "\n",
    "lisi=[1,2,4,5,3,6,7,8]\n",
    "for i in range(len(lisi)):\n",
    "    if lisi[i]==3:\n",
    "               x=i\n",
    "               print(x)\n",
    "for i in enumerate(lisi):\n",
    "    print (i)"
   ]
  },
  {
   "cell_type": "code",
   "execution_count": 59,
   "id": "823ded6f",
   "metadata": {},
   "outputs": [
    {
     "name": "stdout",
     "output_type": "stream",
     "text": [
      "0\n",
      "1\n",
      "1\n",
      "2\n",
      "2\n",
      "4\n",
      "3\n",
      "5\n",
      "4\n",
      "3\n",
      "5\n",
      "6\n",
      "6\n",
      "7\n",
      "7\n",
      "8\n"
     ]
    }
   ],
   "source": [
    "for item,value in enumerate(lisi):\n",
    "    print(item)\n",
    "    print(value)\n",
    "    "
   ]
  },
  {
   "cell_type": "code",
   "execution_count": 60,
   "id": "e35cdf57",
   "metadata": {},
   "outputs": [],
   "source": [
    "def find33(listofnum):\n",
    "    for indi,value in enumerate(listofnum):\n",
    "        while value==3:\n",
    "            if listofnum[value+1]==3:\n",
    "                return True\n",
    "            else:\n",
    "                return False"
   ]
  },
  {
   "cell_type": "code",
   "execution_count": 61,
   "id": "ab8d6a7e",
   "metadata": {},
   "outputs": [
    {
     "ename": "IndexError",
     "evalue": "list index out of range",
     "output_type": "error",
     "traceback": [
      "\u001b[0;31m---------------------------------------------------------------------------\u001b[0m",
      "\u001b[0;31mIndexError\u001b[0m                                Traceback (most recent call last)",
      "Cell \u001b[0;32mIn[61], line 1\u001b[0m\n\u001b[0;32m----> 1\u001b[0m find33([\u001b[38;5;241m1\u001b[39m,\u001b[38;5;241m2\u001b[39m,\u001b[38;5;241m3\u001b[39m,\u001b[38;5;241m4\u001b[39m])\n",
      "Cell \u001b[0;32mIn[60], line 4\u001b[0m, in \u001b[0;36mfind33\u001b[0;34m(listofnum)\u001b[0m\n\u001b[1;32m      2\u001b[0m \u001b[38;5;28;01mfor\u001b[39;00m indi,value \u001b[38;5;129;01min\u001b[39;00m \u001b[38;5;28menumerate\u001b[39m(listofnum):\n\u001b[1;32m      3\u001b[0m     \u001b[38;5;28;01mwhile\u001b[39;00m value\u001b[38;5;241m==\u001b[39m\u001b[38;5;241m3\u001b[39m:\n\u001b[0;32m----> 4\u001b[0m         \u001b[38;5;28;01mif\u001b[39;00m listofnum[value\u001b[38;5;241m+\u001b[39m\u001b[38;5;241m1\u001b[39m]\u001b[38;5;241m==\u001b[39m\u001b[38;5;241m3\u001b[39m:\n\u001b[1;32m      5\u001b[0m             \u001b[38;5;28;01mreturn\u001b[39;00m \u001b[38;5;28;01mTrue\u001b[39;00m\n\u001b[1;32m      6\u001b[0m         \u001b[38;5;28;01melse\u001b[39;00m:\n",
      "\u001b[0;31mIndexError\u001b[0m: list index out of range"
     ]
    }
   ],
   "source": [
    "find33([1,2,3,4])"
   ]
  },
  {
   "cell_type": "code",
   "execution_count": 77,
   "id": "d96b343a",
   "metadata": {},
   "outputs": [
    {
     "name": "stdout",
     "output_type": "stream",
     "text": [
      "True\n"
     ]
    }
   ],
   "source": [
    "lis=[1,2,3,3,5,6]\n",
    "for item,value in enumerate(lis):\n",
    "    if value==3:\n",
    "        if lis[item+1]==3:\n",
    "            print(\"True\")\n",
    "            break\n",
    "        else:\n",
    "            print(\"false\")\n"
   ]
  },
  {
   "cell_type": "code",
   "execution_count": 65,
   "id": "770d693c",
   "metadata": {},
   "outputs": [
    {
     "data": {
      "text/plain": [
       "2"
      ]
     },
     "execution_count": 65,
     "metadata": {},
     "output_type": "execute_result"
    }
   ],
   "source": [
    "2\n"
   ]
  },
  {
   "cell_type": "code",
   "execution_count": null,
   "id": "01b471ac",
   "metadata": {},
   "outputs": [],
   "source": []
  }
 ],
 "metadata": {
  "kernelspec": {
   "display_name": "Python 3 (ipykernel)",
   "language": "python",
   "name": "python3"
  },
  "language_info": {
   "codemirror_mode": {
    "name": "ipython",
    "version": 3
   },
   "file_extension": ".py",
   "mimetype": "text/x-python",
   "name": "python",
   "nbconvert_exporter": "python",
   "pygments_lexer": "ipython3",
   "version": "3.11.5"
  }
 },
 "nbformat": 4,
 "nbformat_minor": 5
}
