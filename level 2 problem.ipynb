{
 "cells": [
  {
   "cell_type": "code",
   "execution_count": 1,
   "id": "7cdaf153",
   "metadata": {},
   "outputs": [
    {
     "name": "stdout",
     "output_type": "stream",
     "text": [
      "false\n"
     ]
    }
   ],
   "source": [
    "lis=[1,2,3,4,5,6]\n",
    "for item,value in enumerate(lis):\n",
    "    if value==3:\n",
    "        if lis[item+1]==3:\n",
    "            print(\"True\")\n",
    "            break\n",
    "        else:\n",
    "            print(\"false\")\n"
   ]
  },
  {
   "cell_type": "code",
   "execution_count": 9,
   "id": "e7496ac3",
   "metadata": {},
   "outputs": [],
   "source": [
    "def chck_consecutive3(num):\n",
    "    #to check a list that any consecutive 3 present in that lsit\n",
    "    for item,value in enumerate(num):\n",
    "        if value==3:\n",
    "            if num[item+1]==3:\n",
    "                x=num[item+1]\n",
    "                print(x)\n",
    "                return True\n",
    "                \n",
    "                \n",
    "            #when it itereates through the list while it finds 3 then it finds the index number of 3 in that list\n",
    "            #as item and item+1 means it can track the next number right after the 3\n",
    "                 \n",
    "        else:\n",
    "            pass\n",
    "            #return False(if we use return false here it show false as soon it checks the first element as not 3)\n",
    "            #so return false should return after the whole loops end\n",
    "    return False\n",
    "num=[1,2,34,2352345,2342134,3,3,345,1234,2345,23]\n"
   ]
  },
  {
   "cell_type": "code",
   "execution_count": 16,
   "id": "cc5d46e3",
   "metadata": {},
   "outputs": [
    {
     "data": {
      "text/plain": [
       "False"
      ]
     },
     "execution_count": 16,
     "metadata": {},
     "output_type": "execute_result"
    }
   ],
   "source": [
    "chck_consecutive3([1,2,4,5,3,6])"
   ]
  },
  {
   "cell_type": "code",
   "execution_count": 19,
   "id": "4abcc002",
   "metadata": {},
   "outputs": [
    {
     "data": {
      "text/plain": [
       "True"
      ]
     },
     "execution_count": 19,
     "metadata": {},
     "output_type": "execute_result"
    }
   ],
   "source": [
    "chck_consecutive3([3,3,4,5,3,3])"
   ]
  },
  {
   "cell_type": "code",
   "execution_count": 11,
   "id": "9a17725e",
   "metadata": {},
   "outputs": [
    {
     "name": "stdout",
     "output_type": "stream",
     "text": [
      "3\n"
     ]
    },
    {
     "data": {
      "text/plain": [
       "True"
      ]
     },
     "execution_count": 11,
     "metadata": {},
     "output_type": "execute_result"
    }
   ],
   "source": [
    "chck_consecutive3([1,2,34,2352345,2342134,3,3,345,1234,2345,23])"
   ]
  },
  {
   "cell_type": "code",
   "execution_count": 28,
   "id": "5e4d4bf8",
   "metadata": {},
   "outputs": [],
   "source": [
    "def chck_index(num):\n",
    "    for inde,value in enumerate(num):\n",
    "        if value==3 and num[inde+1]==3:\n",
    "            return True\n",
    "        else:\n",
    "            pass\n",
    "    return False\n",
    "            \n",
    "\n"
   ]
  },
  {
   "cell_type": "code",
   "execution_count": 24,
   "id": "9523d7eb",
   "metadata": {},
   "outputs": [
    {
     "data": {
      "text/plain": [
       "False"
      ]
     },
     "execution_count": 24,
     "metadata": {},
     "output_type": "execute_result"
    }
   ],
   "source": [
    "chck_index([32,34,65,3,12,56])"
   ]
  },
  {
   "cell_type": "code",
   "execution_count": 25,
   "id": "5f2da8a9",
   "metadata": {},
   "outputs": [
    {
     "data": {
      "text/plain": [
       "True"
      ]
     },
     "execution_count": 25,
     "metadata": {},
     "output_type": "execute_result"
    }
   ],
   "source": [
    "chck_index([2,23,54,3,3,45,56,234])"
   ]
  },
  {
   "cell_type": "code",
   "execution_count": 30,
   "id": "19f62758",
   "metadata": {},
   "outputs": [],
   "source": [
    "'''another way to do this'''\n",
    "\n",
    "def chc_repeat3(num):\n",
    "    for i in range(0,(len(num)-1)):\n",
    "        \n",
    "        if num[i]==3 and num[i+1]==3:\n",
    "            #another way to do this:\n",
    "            #if num[i:i+2]==[3,3]\n",
    "            return True\n",
    "        else:\n",
    "            pass\n",
    "    return False"
   ]
  },
  {
   "cell_type": "code",
   "execution_count": 31,
   "id": "d90d8407",
   "metadata": {},
   "outputs": [
    {
     "data": {
      "text/plain": [
       "True"
      ]
     },
     "execution_count": 31,
     "metadata": {},
     "output_type": "execute_result"
    }
   ],
   "source": [
    "chc_repeat3([2,23,54,3,3,45,56,234])"
   ]
  },
  {
   "cell_type": "code",
   "execution_count": 56,
   "id": "230eda33",
   "metadata": {},
   "outputs": [],
   "source": [
    "'''paperdoll: given a string where every character of string gets three character of that original\n",
    "input>>>hello\n",
    "output>>>hhheeelllooo'''\n",
    "\n",
    "def paperdoll(s):\n",
    "    result=''\n",
    "    for i in s:\n",
    "        result+=i\n",
    "    return result\n",
    "        \n"
   ]
  },
  {
   "cell_type": "code",
   "execution_count": 51,
   "id": "c48ff771",
   "metadata": {},
   "outputs": [
    {
     "name": "stdout",
     "output_type": "stream",
     "text": [
      "t\n",
      "i\n",
      "n\n",
      "o\n",
      "n\n"
     ]
    }
   ],
   "source": [
    "name=\"tinon\"\n",
    "for i in name:\n",
    "    \n",
    "    print(i)"
   ]
  },
  {
   "cell_type": "code",
   "execution_count": 57,
   "id": "cc2a7dce",
   "metadata": {},
   "outputs": [
    {
     "data": {
      "text/plain": [
       "'tinon'"
      ]
     },
     "execution_count": 57,
     "metadata": {},
     "output_type": "execute_result"
    }
   ],
   "source": [
    "paperdoll(\"tinon\")"
   ]
  },
  {
   "cell_type": "code",
   "execution_count": 62,
   "id": "70830098",
   "metadata": {},
   "outputs": [],
   "source": [
    "def paperdollreal(strin):\n",
    "    result=''\n",
    "    for item in strin:\n",
    "        result+=item*3\n",
    "    return result"
   ]
  },
  {
   "cell_type": "code",
   "execution_count": 64,
   "id": "614e4557",
   "metadata": {},
   "outputs": [
    {
     "data": {
      "text/plain": [
       "'hhheeellllllooo'"
      ]
     },
     "execution_count": 64,
     "metadata": {},
     "output_type": "execute_result"
    }
   ],
   "source": [
    "paperdollreal(\"hello\")"
   ]
  },
  {
   "cell_type": "code",
   "execution_count": 93,
   "id": "bf54b33e",
   "metadata": {},
   "outputs": [],
   "source": [
    "'''given 3 integers between 1 to 11.if their sum is less than or eql 21,return their sum.if sum exceeds 21\n",
    "and there is an 11.reduce it by 10 and finally if the sum exceeds 21(after adjustment) print BUST'''\n",
    "def blackjack(a,b,c):\n",
    "    \n",
    "    if sum([a,b,c])<=21:\n",
    "        return sum([a,b,c])\n",
    "    else:\n",
    "        pass\n",
    "    \n",
    "    \n",
    "\n",
    "\n",
    "\n",
    "\n",
    "\n",
    "\n",
    "\n",
    "\n",
    "\n",
    "\n",
    "\n",
    "\n",
    "\n",
    "\n",
    "\n",
    "\n",
    "\n",
    "\n"
   ]
  },
  {
   "cell_type": "code",
   "execution_count": 82,
   "id": "c7d279c8",
   "metadata": {},
   "outputs": [
    {
     "data": {
      "text/plain": [
       "13"
      ]
     },
     "execution_count": 82,
     "metadata": {},
     "output_type": "execute_result"
    }
   ],
   "source": [
    "blackjack(3,4,6)"
   ]
  },
  {
   "cell_type": "code",
   "execution_count": 94,
   "id": "3ac27328",
   "metadata": {},
   "outputs": [
    {
     "name": "stdout",
     "output_type": "stream",
     "text": [
      "the value is not greater than 11\n"
     ]
    },
    {
     "data": {
      "text/plain": [
       "'n'"
      ]
     },
     "execution_count": 94,
     "metadata": {},
     "output_type": "execute_result"
    }
   ],
   "source": [
    "chck([2,3,4,5,6,1])"
   ]
  },
  {
   "cell_type": "code",
   "execution_count": 109,
   "id": "d7c1ef0b",
   "metadata": {},
   "outputs": [],
   "source": [
    "def chck(*args):\n",
    "    result=0\n",
    "    for i in args:\n",
    "        if i<=11:\n",
    "            result+=i\n",
    "        else:\n",
    "            pass\n",
    "    return result"
   ]
  },
  {
   "cell_type": "code",
   "execution_count": 111,
   "id": "9117d7d3",
   "metadata": {},
   "outputs": [
    {
     "data": {
      "text/plain": [
       "20"
      ]
     },
     "execution_count": 111,
     "metadata": {},
     "output_type": "execute_result"
    }
   ],
   "source": [
    "chck(9,13,11)"
   ]
  },
  {
   "cell_type": "code",
   "execution_count": 112,
   "id": "3dbd37fb",
   "metadata": {},
   "outputs": [],
   "source": [
    "def blackjackmain(a,b,c):\n",
    "    if sum([a,b,c])<=21:\n",
    "        return sum\n",
    "    elif 11 in [a,b,c] and sum([a,b,c])<31:\n",
    "        return sum([a,b,c])-10\n",
    "    else:\n",
    "        print(\"BUST\")"
   ]
  },
  {
   "cell_type": "code",
   "execution_count": 113,
   "id": "54036849",
   "metadata": {},
   "outputs": [
    {
     "name": "stdout",
     "output_type": "stream",
     "text": [
      "BUST\n"
     ]
    }
   ],
   "source": [
    "blackjackmain(9,9,10)"
   ]
  },
  {
   "cell_type": "code",
   "execution_count": 118,
   "id": "4d512e63",
   "metadata": {},
   "outputs": [],
   "source": [
    "def summer_of_69(*args):\n",
    "    result=0\n",
    "    for i in args:\n",
    "        if i<6 or i>9:\n",
    "            result+=i\n",
    "    return result"
   ]
  },
  {
   "cell_type": "code",
   "execution_count": 119,
   "id": "2bd064d9",
   "metadata": {},
   "outputs": [
    {
     "data": {
      "text/plain": [
       "22"
      ]
     },
     "execution_count": 119,
     "metadata": {},
     "output_type": "execute_result"
    }
   ],
   "source": [
    "summer_of_69(3,4,5,6,7,9,10)"
   ]
  },
  {
   "cell_type": "code",
   "execution_count": 126,
   "id": "c4659bec",
   "metadata": {},
   "outputs": [
    {
     "ename": "TypeError",
     "evalue": "'<' not supported between instances of 'list' and 'int'",
     "output_type": "error",
     "traceback": [
      "\u001b[0;31m---------------------------------------------------------------------------\u001b[0m",
      "\u001b[0;31mTypeError\u001b[0m                                 Traceback (most recent call last)",
      "Cell \u001b[0;32mIn[126], line 1\u001b[0m\n\u001b[0;32m----> 1\u001b[0m summer_of_69([\u001b[38;5;241m2\u001b[39m,\u001b[38;5;241m1\u001b[39m,\u001b[38;5;241m6\u001b[39m,\u001b[38;5;241m9\u001b[39m,\u001b[38;5;241m11\u001b[39m])\n\u001b[1;32m      2\u001b[0m summer_of_69(\u001b[38;5;241m4\u001b[39m,\u001b[38;5;241m5\u001b[39m,\u001b[38;5;241m6\u001b[39m,\u001b[38;5;241m7\u001b[39m,\u001b[38;5;241m8\u001b[39m,\u001b[38;5;241m9\u001b[39m)\n\u001b[1;32m      3\u001b[0m summer_of_69([\u001b[38;5;241m1\u001b[39m,\u001b[38;5;241m3\u001b[39m,\u001b[38;5;241m5\u001b[39m])\n",
      "Cell \u001b[0;32mIn[118], line 4\u001b[0m, in \u001b[0;36msummer_of_69\u001b[0;34m(*args)\u001b[0m\n\u001b[1;32m      2\u001b[0m result\u001b[38;5;241m=\u001b[39m\u001b[38;5;241m0\u001b[39m\n\u001b[1;32m      3\u001b[0m \u001b[38;5;28;01mfor\u001b[39;00m i \u001b[38;5;129;01min\u001b[39;00m args:\n\u001b[0;32m----> 4\u001b[0m     \u001b[38;5;28;01mif\u001b[39;00m i\u001b[38;5;241m<\u001b[39m\u001b[38;5;241m6\u001b[39m \u001b[38;5;129;01mor\u001b[39;00m i\u001b[38;5;241m>\u001b[39m\u001b[38;5;241m9\u001b[39m:\n\u001b[1;32m      5\u001b[0m         result\u001b[38;5;241m+\u001b[39m\u001b[38;5;241m=\u001b[39mi\n\u001b[1;32m      6\u001b[0m \u001b[38;5;28;01mreturn\u001b[39;00m result\n",
      "\u001b[0;31mTypeError\u001b[0m: '<' not supported between instances of 'list' and 'int'"
     ]
    }
   ],
   "source": [
    "summer_of_69([2,1,6,9,11])\n",
    "summer_of_69(4,5,6,7,8,9)\n",
    "summer_of_69([1,3,5])\n",
    "\n"
   ]
  },
  {
   "cell_type": "code",
   "execution_count": 132,
   "id": "c1e02897",
   "metadata": {},
   "outputs": [],
   "source": [
    "def summer_69(arr):\n",
    "    total=0\n",
    "    add=True\n",
    "    for num in arr:\n",
    "        while add:\n",
    "            if num!=6:\n",
    "                \n",
    "                total+=num\n",
    "                break\n",
    "            else:\n",
    "                add=False\n",
    "        while not add:\n",
    "            if num!=9:\n",
    "                \n",
    "                break\n",
    "            else:\n",
    "                add=True\n",
    "                break\n",
    "    return total\n",
    "                \n",
    "            "
   ]
  },
  {
   "cell_type": "code",
   "execution_count": 133,
   "id": "80e9915d",
   "metadata": {},
   "outputs": [
    {
     "data": {
      "text/plain": [
       "3"
      ]
     },
     "execution_count": 133,
     "metadata": {},
     "output_type": "execute_result"
    }
   ],
   "source": [
    "summer_69([3,6,7,10])"
   ]
  },
  {
   "cell_type": "code",
   "execution_count": null,
   "id": "3056a215",
   "metadata": {},
   "outputs": [],
   "source": []
  }
 ],
 "metadata": {
  "kernelspec": {
   "display_name": "Python 3 (ipykernel)",
   "language": "python",
   "name": "python3"
  },
  "language_info": {
   "codemirror_mode": {
    "name": "ipython",
    "version": 3
   },
   "file_extension": ".py",
   "mimetype": "text/x-python",
   "name": "python",
   "nbconvert_exporter": "python",
   "pygments_lexer": "ipython3",
   "version": "3.11.5"
  }
 },
 "nbformat": 4,
 "nbformat_minor": 5
}
