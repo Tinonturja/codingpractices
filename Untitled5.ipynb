{
 "cells": [
  {
   "cell_type": "code",
   "execution_count": 1,
   "id": "d7ae3948",
   "metadata": {},
   "outputs": [],
   "source": [
    "def f_series(num):\n",
    "    fibonacci=[0,1]\n",
    "    x=0\n",
    "    while x<=num:\n",
    "        x=fibonacci[-1]+fibonacci[-2]\n",
    "        fibonacci.append(x)\n",
    "    return fibonacci"
   ]
  },
  {
   "cell_type": "code",
   "execution_count": 2,
   "id": "0fa5ab52",
   "metadata": {},
   "outputs": [
    {
     "data": {
      "text/plain": [
       "[0, 1, 1, 2, 3, 5, 8, 13, 21]"
      ]
     },
     "execution_count": 2,
     "metadata": {},
     "output_type": "execute_result"
    }
   ],
   "source": [
    "f_series(20)"
   ]
  },
  {
   "cell_type": "code",
   "execution_count": 3,
   "id": "db5481cd",
   "metadata": {},
   "outputs": [],
   "source": [
    "def f_series(num):\n",
    "    fibonacci=[0,1]\n",
    "    x=0\n",
    "    while x<=num:\n",
    "        x=fibonacci[-1]+fibonacci[-2]\n",
    "        if x%2==0:\n",
    "            \n",
    "            fibonacci.append(x)\n",
    "    return fibonacci"
   ]
  },
  {
   "cell_type": "code",
   "execution_count": null,
   "id": "1f3d8a21",
   "metadata": {},
   "outputs": [],
   "source": [
    "f_series(20)"
   ]
  },
  {
   "cell_type": "code",
   "execution_count": 22,
   "id": "3830c822",
   "metadata": {},
   "outputs": [],
   "source": [
    "def f_series(num):\n",
    "    fibonacci=[0,1]\n",
    "    even_numbers=[]\n",
    "    for items in range(2,num):\n",
    "        x=fibonacci[-1]+fibonacci[-2]\n",
    "        \n",
    "        fibonacci.append(x)\n",
    "    for i in fibonacci:\n",
    "        if i%2==0:\n",
    "            even_numbers.append(i)\n",
    "                \n",
    "        \n",
    "    \n",
    "            \n",
    "    return sum(even_numbers)"
   ]
  },
  {
   "cell_type": "code",
   "execution_count": 23,
   "id": "02f22b83",
   "metadata": {},
   "outputs": [
    {
     "data": {
      "text/plain": [
       "3382"
      ]
     },
     "execution_count": 23,
     "metadata": {},
     "output_type": "execute_result"
    }
   ],
   "source": [
    "f_series(20)"
   ]
  },
  {
   "cell_type": "code",
   "execution_count": 8,
   "id": "8c8ec3e5",
   "metadata": {},
   "outputs": [
    {
     "name": "stdout",
     "output_type": "stream",
     "text": [
      "2\n",
      "3\n",
      "4\n",
      "5\n",
      "6\n",
      "7\n",
      "8\n",
      "9\n",
      "10\n",
      "11\n",
      "12\n",
      "13\n",
      "14\n",
      "15\n",
      "16\n",
      "17\n",
      "18\n",
      "19\n"
     ]
    }
   ],
   "source": [
    "for items in range(2,20):\n",
    "    print (items)"
   ]
  },
  {
   "cell_type": "code",
   "execution_count": 1,
   "id": "b0877f2d",
   "metadata": {},
   "outputs": [],
   "source": [
    "def fi_series(num):\n",
    "    \n",
    "    fib=[0,1]\n",
    "    even=[]\n",
    "    for i in range(2,num):\n",
    "        i=fib[-1]+fib[-2]\n",
    "        fib.append(i)\n",
    "    for item in fib:\n",
    "        if item%2==0 and item<4000000:\n",
    "            even.append(item)\n",
    "        else:\n",
    "            pass\n",
    "    return sum(even)\n",
    "            \n",
    "    "
   ]
  },
  {
   "cell_type": "code",
   "execution_count": 2,
   "id": "2ba5bc48",
   "metadata": {},
   "outputs": [
    {
     "data": {
      "text/plain": [
       "4613732"
      ]
     },
     "execution_count": 2,
     "metadata": {},
     "output_type": "execute_result"
    }
   ],
   "source": [
    "fi_series(100)"
   ]
  },
  {
   "cell_type": "code",
   "execution_count": 3,
   "id": "b69255bd",
   "metadata": {},
   "outputs": [
    {
     "data": {
      "text/plain": [
       "4613732"
      ]
     },
     "execution_count": 3,
     "metadata": {},
     "output_type": "execute_result"
    }
   ],
   "source": [
    "fi_series(200)"
   ]
  },
  {
   "cell_type": "code",
   "execution_count": 2,
   "id": "30ed7210",
   "metadata": {},
   "outputs": [],
   "source": [
    "\n",
    "def chck_prime(num):#say num=30\n",
    "    lis=[]\n",
    "    even_factor=[]\n",
    "    count=0\n",
    "    for i in range(1,num+1):\n",
    "        if num%i==0:\n",
    "            lis.append(i)#lis[1,2,3,5,6,10,15,30]\n",
    "        for items in lis:#say grab 2//again grab 3//grab 10\n",
    "            for x in range(1,items+1):#x(1,3)->>x=1,x=2//#x(1,4)->>x=1,x=2,x=3//x(1,11), x=1,2,3,4,5,6,7,8,9,10\n",
    "                if items%x==0:#items=2;x=1\n",
    "                    count+=1\n",
    "                else:\n",
    "                    count=count\n",
    "                \n",
    "        if count==2:\n",
    "            even_factor.append(items)\n",
    "            \n",
    "                    \n",
    "                    \n",
    "                \n",
    "            \n",
    "            #return i\n",
    "            #for item in range(1,num+1):\n",
    "               # if i%item==0:\n",
    "                    #count+=1\n",
    "                \n",
    "                #if count==2:\n",
    "                    #lis.append(i)\n",
    "                \n",
    "            \n",
    "            #if isprime(i):\n",
    "                #lis.append(i)\n",
    "                \n",
    "            #if we give return here the funciton\n",
    "            \n",
    "    #return lis\n",
    "    #return i\n",
    "    return even_factor"
   ]
  },
  {
   "cell_type": "code",
   "execution_count": 3,
   "id": "403bbac6",
   "metadata": {},
   "outputs": [
    {
     "data": {
      "text/plain": [
       "[]"
      ]
     },
     "execution_count": 3,
     "metadata": {},
     "output_type": "execute_result"
    }
   ],
   "source": [
    "chck_prime(30)"
   ]
  },
  {
   "cell_type": "code",
   "execution_count": 1,
   "id": "b1eb535d",
   "metadata": {},
   "outputs": [],
   "source": [
    "def chck_prime(num):\n",
    "    lis = []\n",
    "    \n",
    "    for i in range(2, num):\n",
    "        if num % i == 0:\n",
    "            count = 0  # Reset count for each potential factor\n",
    "            for item in range(2, i):\n",
    "                if i % item == 0:\n",
    "                    count += 1\n",
    "            if count == 0:\n",
    "                lis.append(i)\n",
    "    \n",
    "    return lis\n"
   ]
  },
  {
   "cell_type": "code",
   "execution_count": 24,
   "id": "29dba098",
   "metadata": {},
   "outputs": [
    {
     "data": {
      "text/plain": [
       "[2, 3, 11]"
      ]
     },
     "execution_count": 24,
     "metadata": {},
     "output_type": "execute_result"
    }
   ],
   "source": [
    "chck_prime(3564)"
   ]
  },
  {
   "cell_type": "code",
   "execution_count": null,
   "id": "d51e7f11",
   "metadata": {},
   "outputs": [],
   "source": []
  }
 ],
 "metadata": {
  "kernelspec": {
   "display_name": "Python 3 (ipykernel)",
   "language": "python",
   "name": "python3"
  },
  "language_info": {
   "codemirror_mode": {
    "name": "ipython",
    "version": 3
   },
   "file_extension": ".py",
   "mimetype": "text/x-python",
   "name": "python",
   "nbconvert_exporter": "python",
   "pygments_lexer": "ipython3",
   "version": "3.11.5"
  }
 },
 "nbformat": 4,
 "nbformat_minor": 5
}
