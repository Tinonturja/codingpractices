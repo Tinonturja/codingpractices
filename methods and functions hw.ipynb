{
 "cells": [
  {
   "cell_type": "markdown",
   "id": "06bba854",
   "metadata": {},
   "source": [
    "# Write a function that computes the volume of a sphere given its radius.\n",
    "\n",
    "The volume of a sphere is given as\n",
    "4/3π𝑟^3"
   ]
  },
  {
   "cell_type": "code",
   "execution_count": 1,
   "id": "8209680a",
   "metadata": {},
   "outputs": [],
   "source": [
    "def vl_of_sphere(radius):\n",
    "    pi=3.14156\n",
    "    return 4/3*pi*radius**3"
   ]
  },
  {
   "cell_type": "code",
   "execution_count": 2,
   "id": "1a7f173a",
   "metadata": {},
   "outputs": [
    {
     "data": {
      "text/plain": [
       "33.509973333333335"
      ]
     },
     "execution_count": 2,
     "metadata": {},
     "output_type": "execute_result"
    }
   ],
   "source": [
    "vl_of_sphere(2)"
   ]
  },
  {
   "cell_type": "markdown",
   "id": "5adb78e4",
   "metadata": {},
   "source": [
    "# ___\n",
    "**Write a function that checks whether a number is in a given range (inclusive of high and low)**\n"
   ]
  },
  {
   "cell_type": "code",
   "execution_count": 12,
   "id": "a758d2ea",
   "metadata": {},
   "outputs": [],
   "source": [
    "def ran_chck(a,low,high):\n",
    "    if a not in range(low,high+1):\n",
    "        return False\n",
    "    else:\n",
    "        return True"
   ]
  },
  {
   "cell_type": "code",
   "execution_count": 16,
   "id": "e328ee03",
   "metadata": {},
   "outputs": [
    {
     "data": {
      "text/plain": [
       "True"
      ]
     },
     "execution_count": 16,
     "metadata": {},
     "output_type": "execute_result"
    }
   ],
   "source": [
    "ran_chck(10,1,10)"
   ]
  },
  {
   "cell_type": "markdown",
   "id": "c61c423a",
   "metadata": {},
   "source": [
    "# Write a Python function that accepts a string and calculates the number of upper case letters and lower case letters.\n",
    "\n",
    "Sample String : 'Hello Mr. Rogers, how are you this fine Tuesday?'\n",
    "Expected Output : \n",
    "No. of Upper case characters : 4\n",
    "No. of Lower case Characters : 33\n",
    "HINT: Two string methods that might prove useful: .isupper() and .islower()\n",
    "\n",
    "If you feel ambitious, explore the Collections module to solve this problem!"
   ]
  },
  {
   "cell_type": "code",
   "execution_count": 39,
   "id": "70b61a40",
   "metadata": {},
   "outputs": [],
   "source": [
    "def count_letters(string):\n",
    "    uppercase_count=0\n",
    "    lowercase_count=0\n",
    "    for item in string:\n",
    "        if item.isupper():\n",
    "            #is.upper()this method is used to check weather a letter is in upper case or lower case\n",
    "            #is.upper() is a boolean function\n",
    "            uppercase_count+=1\n",
    "        elif item.islower():\n",
    "            #is lower function is used to check weather a function is in lowercase\n",
    "            \n",
    "            lowercase_count+=1\n",
    "    return uppercase_count,lowercase_count"
   ]
  },
  {
   "cell_type": "code",
   "execution_count": 40,
   "id": "c206e894",
   "metadata": {},
   "outputs": [
    {
     "data": {
      "text/plain": [
       "(4, 33)"
      ]
     },
     "execution_count": 40,
     "metadata": {},
     "output_type": "execute_result"
    }
   ],
   "source": [
    "count_letters('Hello Mr. Rogers, how are you this fine Tuesday?')"
   ]
  },
  {
   "cell_type": "markdown",
   "id": "0414f887",
   "metadata": {},
   "source": [
    "# Write a Python function that takes a list and returns a new list with unique elements of the first list.\n",
    "\n",
    "Sample List : [1,1,1,1,2,2,3,3,3,3,4,5]\n",
    "Unique List : [1, 2, 3, 4, 5]"
   ]
  },
  {
   "cell_type": "code",
   "execution_count": 4,
   "id": "a9b06fa1",
   "metadata": {},
   "outputs": [],
   "source": [
    "def set1(num):\n",
    "    return(set(num))\n",
    "    "
   ]
  },
  {
   "cell_type": "code",
   "execution_count": 5,
   "id": "0397e421",
   "metadata": {},
   "outputs": [
    {
     "data": {
      "text/plain": [
       "{1, 2, 3, 4, 5}"
      ]
     },
     "execution_count": 5,
     "metadata": {},
     "output_type": "execute_result"
    }
   ],
   "source": [
    "set1([1,1,1,1,2,2,3,3,3,3,4,5])"
   ]
  },
  {
   "cell_type": "markdown",
   "id": "f8976621",
   "metadata": {},
   "source": [
    "# **Write a Python function to multiply all the numbers in a list.**\n",
    "\n",
    "    Sample List : [1, 2, 3, -4]\n",
    "    Expected Output : -24\n",
    "   "
   ]
  },
  {
   "cell_type": "code",
   "execution_count": 16,
   "id": "52ca1420",
   "metadata": {},
   "outputs": [],
   "source": [
    "def multiple(num):\n",
    "    multiply=1\n",
    "    \n",
    "    for a,b in enumerate(num):\n",
    "        \n",
    "        multiply=multiply*b\n",
    "        print(multiply)\n",
    "    return multiply"
   ]
  },
  {
   "cell_type": "code",
   "execution_count": 17,
   "id": "e11aadbe",
   "metadata": {},
   "outputs": [
    {
     "name": "stdout",
     "output_type": "stream",
     "text": [
      "1\n",
      "2\n",
      "6\n",
      "-24\n"
     ]
    },
    {
     "data": {
      "text/plain": [
       "-24"
      ]
     },
     "execution_count": 17,
     "metadata": {},
     "output_type": "execute_result"
    }
   ],
   "source": [
    "multiple([1, 2, 3, -4])"
   ]
  },
  {
   "cell_type": "markdown",
   "id": "52937042",
   "metadata": {},
   "source": [
    "# Write a Python function that checks whether a word or phrase is palindrome or not.\n",
    "\n",
    "Note: A palindrome is word, phrase, or sequence that reads the same backward as forward, e.g., madam,kayak,racecar, or a phrase \"nurses run\". Hint: You may want to check out the .replace() method in a string to help out with dealing with spaces. Also google search how to reverse a string in Python, there are some clever ways to do it with slicing notation."
   ]
  },
  {
   "cell_type": "code",
   "execution_count": 44,
   "id": "89b2c66b",
   "metadata": {},
   "outputs": [],
   "source": [
    "def palindrome(string):\n",
    "    string1=''.join(string.split())\n",
    "    \n",
    "    \n",
    "    \n",
    "    if string1[::1]==string1[::-1]:\n",
    "        print(\"palindrome\")\n",
    "    else:\n",
    "        print(\"not palindrome\")\n",
    "    "
   ]
  },
  {
   "cell_type": "code",
   "execution_count": 45,
   "id": "1352abde",
   "metadata": {},
   "outputs": [
    {
     "name": "stdout",
     "output_type": "stream",
     "text": [
      "palindrome\n"
     ]
    }
   ],
   "source": [
    "palindrome('nurses run')"
   ]
  },
  {
   "cell_type": "code",
   "execution_count": 46,
   "id": "56479a23",
   "metadata": {},
   "outputs": [
    {
     "name": "stdout",
     "output_type": "stream",
     "text": [
      "palindrome\n"
     ]
    }
   ],
   "source": [
    "palindrome('madam')"
   ]
  },
  {
   "cell_type": "code",
   "execution_count": 47,
   "id": "5aaf812a",
   "metadata": {},
   "outputs": [
    {
     "name": "stdout",
     "output_type": "stream",
     "text": [
      "palindrome\n"
     ]
    }
   ],
   "source": [
    "palindrome('kayak')"
   ]
  },
  {
   "cell_type": "markdown",
   "id": "4c2517ad",
   "metadata": {},
   "source": [
    "# Hard:\n",
    "Write a Python function to check whether a string is pangram or not. (Assume the string passed in does not have any punctuation)\n",
    "\n",
    "Note : Pangrams are words or sentences containing every letter of the alphabet at least once.\n",
    "For example : \"The quick brown fox jumps over the lazy dog\"\n",
    "Hint: You may want to use .replace() method to get rid of spaces.\n",
    "\n",
    "Hint: Look at the string module\n",
    "\n",
    "Hint: In case you want to use set comparisons"
   ]
  },
  {
   "cell_type": "code",
   "execution_count": 48,
   "id": "c7c47d58",
   "metadata": {},
   "outputs": [],
   "source": [
    "import string\n",
    "def ispangram(str1,alphabet=string.ascii_lowercase):\n",
    "    \n",
    "    alphaset=set(alphabet)\n",
    "    \n",
    "    str1=str1.lower()\n",
    "    str1=str1.replace(' ','')\n",
    "    str1=set(str1)\n",
    "    return str1==alphaset\n",
    "        "
   ]
  },
  {
   "cell_type": "code",
   "execution_count": 49,
   "id": "a08c5671",
   "metadata": {},
   "outputs": [
    {
     "data": {
      "text/plain": [
       "False"
      ]
     },
     "execution_count": 49,
     "metadata": {},
     "output_type": "execute_result"
    }
   ],
   "source": [
    "ispangram(\"tinon turja\")"
   ]
  },
  {
   "cell_type": "code",
   "execution_count": null,
   "id": "cc42f587",
   "metadata": {},
   "outputs": [],
   "source": []
  }
 ],
 "metadata": {
  "kernelspec": {
   "display_name": "Python 3 (ipykernel)",
   "language": "python",
   "name": "python3"
  },
  "language_info": {
   "codemirror_mode": {
    "name": "ipython",
    "version": 3
   },
   "file_extension": ".py",
   "mimetype": "text/x-python",
   "name": "python",
   "nbconvert_exporter": "python",
   "pygments_lexer": "ipython3",
   "version": "3.11.5"
  }
 },
 "nbformat": 4,
 "nbformat_minor": 5
}
