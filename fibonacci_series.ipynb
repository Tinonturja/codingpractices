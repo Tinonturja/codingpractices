{
 "cells": [
  {
   "cell_type": "code",
   "execution_count": 1,
   "id": "aae197f1",
   "metadata": {},
   "outputs": [],
   "source": [
    "def fibonacci(num):\n",
    "    fibonacci_series=[0,1]\n",
    "    i=0\n",
    "    while fibonacci_series[-1]+fibonacci_series[-2]<num:\n",
    "        \n",
    "        i=fibonacci_series[-1]+fibonacci_series[-2]\n",
    "        fibonacci_series.append(i)\n",
    "    return fibonacci_series"
   ]
  },
  {
   "cell_type": "code",
   "execution_count": 2,
   "id": "1fd93f64",
   "metadata": {},
   "outputs": [
    {
     "data": {
      "text/plain": [
       "[0, 1, 1, 2, 3, 5, 8, 13]"
      ]
     },
     "execution_count": 2,
     "metadata": {},
     "output_type": "execute_result"
    }
   ],
   "source": [
    "fibonacci(20)"
   ]
  },
  {
   "cell_type": "code",
   "execution_count": null,
   "id": "ad0e4167",
   "metadata": {},
   "outputs": [],
   "source": [
    "def fibonacci(num):\n",
    "    fibonacci_series=[0,1]\n",
    "    if num<2:\n",
    "        return 0\n",
    "    i=0\n",
    "    while fibonacci_series[-1]+fibonacci_series[-2]<num:\n",
    "        \n",
    "        i=fibonacci_series[-1]+fibonacci_series[-2]\n",
    "        if i%2==0:\n",
    "            \n",
    "            fibonacci_series.append(i)\n",
    "    return fibonacci_series"
   ]
  },
  {
   "cell_type": "code",
   "execution_count": null,
   "id": "b5c984ca",
   "metadata": {},
   "outputs": [],
   "source": [
    "fibonacci(30)"
   ]
  },
  {
   "cell_type": "code",
   "execution_count": null,
   "id": "039b4fb7",
   "metadata": {},
   "outputs": [],
   "source": [
    "def fibonacci(num):\n",
    "    fibonacci_series = [0, 1]\n",
    "    if num < 2:\n",
    "        return fibonacci_series[:num + 1]  # Return the Fibonacci series up to num (inclusive)\n",
    "    \n",
    "    i = 0\n",
    "    while fibonacci_series[-1] + fibonacci_series[-2] <= num:\n",
    "        i = fibonacci_series[-1] + fibonacci_series[-2]\n",
    "        if i % 2 == 0:\n",
    "            fibonacci_series.append(i)\n",
    "    return fibonacci_series\n",
    "\n",
    "\n"
   ]
  },
  {
   "cell_type": "code",
   "execution_count": null,
   "id": "c46e6ba3",
   "metadata": {},
   "outputs": [],
   "source": [
    "'''sum=1,count=0,sum=s+c=1//sum=1,c=1,s=2//sum=2,c=2==sum"
   ]
  }
 ],
 "metadata": {
  "kernelspec": {
   "display_name": "Python 3 (ipykernel)",
   "language": "python",
   "name": "python3"
  },
  "language_info": {
   "codemirror_mode": {
    "name": "ipython",
    "version": 3
   },
   "file_extension": ".py",
   "mimetype": "text/x-python",
   "name": "python",
   "nbconvert_exporter": "python",
   "pygments_lexer": "ipython3",
   "version": "3.11.5"
  }
 },
 "nbformat": 4,
 "nbformat_minor": 5
}
