{
 "cells": [
  {
   "cell_type": "code",
   "execution_count": 1,
   "id": "c2be7b84",
   "metadata": {},
   "outputs": [],
   "source": [
    "def f_series(num):\n",
    "    fibonacci = [0, 1]\n",
    "    x = 0\n",
    "    while x <= num:\n",
    "        x = fibonacci[-1] + fibonacci[-2]\n",
    "        if x % 2 == 0:\n",
    "            fibonacci.append(x)\n",
    "    \n",
    "    return fibonacci\n"
   ]
  },
  {
   "cell_type": "code",
   "execution_count": null,
   "id": "02612b82",
   "metadata": {},
   "outputs": [],
   "source": [
    "f_series(10)"
   ]
  },
  {
   "cell_type": "code",
   "execution_count": null,
   "id": "f1e25069",
   "metadata": {},
   "outputs": [],
   "source": []
  }
 ],
 "metadata": {
  "kernelspec": {
   "display_name": "Python 3 (ipykernel)",
   "language": "python",
   "name": "python3"
  },
  "language_info": {
   "codemirror_mode": {
    "name": "ipython",
    "version": 3
   },
   "file_extension": ".py",
   "mimetype": "text/x-python",
   "name": "python",
   "nbconvert_exporter": "python",
   "pygments_lexer": "ipython3",
   "version": "3.11.5"
  }
 },
 "nbformat": 4,
 "nbformat_minor": 5
}
