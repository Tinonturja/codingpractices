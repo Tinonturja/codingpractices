{
 "cells": [
  {
   "cell_type": "code",
   "execution_count": 7,
   "id": "15052c52",
   "metadata": {},
   "outputs": [],
   "source": [
    "from random import shuffle"
   ]
  },
  {
   "cell_type": "code",
   "execution_count": 2,
   "id": "1dc984a4",
   "metadata": {},
   "outputs": [],
   "source": [
    "mylist=[' ',' ','O']"
   ]
  },
  {
   "cell_type": "code",
   "execution_count": 8,
   "id": "4d2c1a45",
   "metadata": {},
   "outputs": [],
   "source": [
    "def slist(mlist):\n",
    "    shuffle(mlist)\n",
    "    return mlist"
   ]
  },
  {
   "cell_type": "code",
   "execution_count": 11,
   "id": "3da6e963",
   "metadata": {},
   "outputs": [],
   "source": [
    "y=slist([' ',' ','O'])"
   ]
  },
  {
   "cell_type": "code",
   "execution_count": 12,
   "id": "e98bc4d7",
   "metadata": {},
   "outputs": [
    {
     "data": {
      "text/plain": [
       "[' ', 'O', ' ']"
      ]
     },
     "execution_count": 12,
     "metadata": {},
     "output_type": "execute_result"
    }
   ],
   "source": [
    "y"
   ]
  },
  {
   "cell_type": "code",
   "execution_count": 1,
   "id": "f95ce5a9",
   "metadata": {},
   "outputs": [],
   "source": [
    "def mguess():\n",
    "    x=int(input(\"enter your guess 0,1 or 2\\n\"))\n",
    "    while x not in [0,1,2]:\n",
    "        x=int(input(\"enter your guess properly.Follow the instruction\"))\n",
    "    return x"
   ]
  },
  {
   "cell_type": "code",
   "execution_count": 2,
   "id": "4c848348",
   "metadata": {},
   "outputs": [
    {
     "name": "stdout",
     "output_type": "stream",
     "text": [
      "enter your guess 0,1 or 2\n",
      "2\n"
     ]
    }
   ],
   "source": [
    "z=mguess()"
   ]
  },
  {
   "cell_type": "code",
   "execution_count": 3,
   "id": "6f071b03",
   "metadata": {},
   "outputs": [
    {
     "data": {
      "text/plain": [
       "2"
      ]
     },
     "execution_count": 3,
     "metadata": {},
     "output_type": "execute_result"
    }
   ],
   "source": [
    "z"
   ]
  },
  {
   "cell_type": "code",
   "execution_count": 4,
   "id": "8fa21e18",
   "metadata": {},
   "outputs": [
    {
     "name": "stdout",
     "output_type": "stream",
     "text": [
      "enter your guess 0,1 or 2\n",
      "1\n"
     ]
    }
   ],
   "source": [
    "index=mguess()"
   ]
  },
  {
   "cell_type": "code",
   "execution_count": 5,
   "id": "543bf295",
   "metadata": {},
   "outputs": [
    {
     "name": "stdout",
     "output_type": "stream",
     "text": [
      "1\n"
     ]
    }
   ],
   "source": [
    "print(index)"
   ]
  },
  {
   "cell_type": "code",
   "execution_count": 6,
   "id": "239af8ee",
   "metadata": {},
   "outputs": [],
   "source": [
    "def fgame(lis,ind):\n",
    "    if lis[ind]=='O':\n",
    "        print(\"your guess is correct\")\n",
    "    else:\n",
    "        print(\"you make the wrond guess\")\n",
    "    return lis"
   ]
  },
  {
   "cell_type": "code",
   "execution_count": 10,
   "id": "879d6d3a",
   "metadata": {},
   "outputs": [
    {
     "name": "stdout",
     "output_type": "stream",
     "text": [
      "enter your guess 0,1 or 2\n",
      "2\n",
      "you make the wrond guess\n",
      "['O', ' ', ' ']\n"
     ]
    }
   ],
   "source": [
    "my_initial_list=[' ','O',' ']\n",
    "#now the list will be shuffled\n",
    "lis=slist(my_initial_list)\n",
    "#now i would ask for the guess.So i will call the guess function\n",
    "ind=mguess()\n",
    "\n",
    "fgame(lis,ind)\n",
    "print(lis)"
   ]
  },
  {
   "cell_type": "code",
   "execution_count": null,
   "id": "114b67c5",
   "metadata": {},
   "outputs": [],
   "source": []
  }
 ],
 "metadata": {
  "kernelspec": {
   "display_name": "Python 3 (ipykernel)",
   "language": "python",
   "name": "python3"
  },
  "language_info": {
   "codemirror_mode": {
    "name": "ipython",
    "version": 3
   },
   "file_extension": ".py",
   "mimetype": "text/x-python",
   "name": "python",
   "nbconvert_exporter": "python",
   "pygments_lexer": "ipython3",
   "version": "3.11.5"
  }
 },
 "nbformat": 4,
 "nbformat_minor": 5
}
