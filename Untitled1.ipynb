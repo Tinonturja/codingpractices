{
 "cells": [
  {
   "cell_type": "code",
   "execution_count": 1,
   "id": "4b067617",
   "metadata": {},
   "outputs": [
    {
     "data": {
      "text/plain": [
       "2"
      ]
     },
     "execution_count": 1,
     "metadata": {},
     "output_type": "execute_result"
    }
   ],
   "source": [
    "2"
   ]
  },
  {
   "cell_type": "code",
   "execution_count": 2,
   "id": "fef9a52d",
   "metadata": {},
   "outputs": [
    {
     "name": "stdout",
     "output_type": "stream",
     "text": [
      "amar nam turja\n",
      "amar nam turja\n",
      "amar nam turja\n",
      "amar nam turja\n",
      "amar nam turja\n"
     ]
    }
   ],
   "source": [
    "mylist=[1,2,3,4,5]\n",
    "for num in mylist:\n",
    "    print(\"amar nam turja\")"
   ]
  },
  {
   "cell_type": "code",
   "execution_count": 6,
   "id": "c93d39b8",
   "metadata": {},
   "outputs": [],
   "source": [
    "def check_even_number(mylist1):\n",
    "    num=[]\n",
    "    for i in mylist1:\n",
    "        if i%2==0:\n",
    "            num.append(i)\n",
    "    return num\n",
    "    "
   ]
  },
  {
   "cell_type": "code",
   "execution_count": 7,
   "id": "285ac1b9",
   "metadata": {},
   "outputs": [
    {
     "data": {
      "text/plain": [
       "[232, 66, 78]"
      ]
     },
     "execution_count": 7,
     "metadata": {},
     "output_type": "execute_result"
    }
   ],
   "source": [
    "check_even_number([23,545,232,45,66,78,9887,43])"
   ]
  },
  {
   "cell_type": "code",
   "execution_count": 1,
   "id": "638bd5eb",
   "metadata": {},
   "outputs": [],
   "source": [
    "from random import shuffle"
   ]
  },
  {
   "cell_type": "code",
   "execution_count": 9,
   "id": "243bdbd7",
   "metadata": {},
   "outputs": [],
   "source": [
    "mylist=[1,2,3,4,5,6,7]"
   ]
  },
  {
   "cell_type": "code",
   "execution_count": 10,
   "id": "5096bb8a",
   "metadata": {},
   "outputs": [],
   "source": [
    "shuffle(mylist)"
   ]
  },
  {
   "cell_type": "code",
   "execution_count": 11,
   "id": "fdf7be2a",
   "metadata": {},
   "outputs": [
    {
     "data": {
      "text/plain": [
       "[2, 4, 5, 1, 7, 3, 6]"
      ]
     },
     "execution_count": 11,
     "metadata": {},
     "output_type": "execute_result"
    }
   ],
   "source": [
    "mylist"
   ]
  },
  {
   "cell_type": "code",
   "execution_count": 27,
   "id": "497db904",
   "metadata": {},
   "outputs": [],
   "source": [
    "def shuf_the_number(mynum):\n",
    "    shuffle(mynum)\n",
    "    return mynum\n",
    "    "
   ]
  },
  {
   "cell_type": "code",
   "execution_count": 28,
   "id": "8f6cbc8e",
   "metadata": {},
   "outputs": [],
   "source": [
    "y=shuf_the_number([1,2,3,4,5,6])"
   ]
  },
  {
   "cell_type": "code",
   "execution_count": 29,
   "id": "56a58c34",
   "metadata": {},
   "outputs": [
    {
     "name": "stdout",
     "output_type": "stream",
     "text": [
      "[2, 1, 4, 5, 6, 3]\n"
     ]
    }
   ],
   "source": [
    "print(y)"
   ]
  },
  {
   "cell_type": "code",
   "execution_count": 25,
   "id": "5ee62816",
   "metadata": {},
   "outputs": [],
   "source": [
    "def shuf(num1):\n",
    "    shuffle(num1)\n",
    "    return num1"
   ]
  },
  {
   "cell_type": "code",
   "execution_count": 26,
   "id": "beecbfe3",
   "metadata": {},
   "outputs": [
    {
     "name": "stdout",
     "output_type": "stream",
     "text": [
      "[3, 4, 5, 1, 2]\n"
     ]
    }
   ],
   "source": [
    "y=shuf([1,2,3,4,5])\n",
    "print(y)"
   ]
  },
  {
   "cell_type": "code",
   "execution_count": 4,
   "id": "f7f5b27e",
   "metadata": {},
   "outputs": [],
   "source": [
    "def ur_guess():\n",
    "    x=int(input(\"enter your guess which should be 0,1 or 2\\n\"))\n",
    "    while x not in [0,1,2]:\n",
    "        print(\"enter the value within 0 to 2\\n\")\n",
    "        \n",
    "        x=int(input(\"enter your guess which should be 0,1 or 2\\n\"))\n",
    "    return x\n",
    "    "
   ]
  },
  {
   "cell_type": "code",
   "execution_count": 5,
   "id": "7f88056a",
   "metadata": {},
   "outputs": [
    {
     "ename": "NameError",
     "evalue": "name 'shuffle' is not defined",
     "output_type": "error",
     "traceback": [
      "\u001b[0;31m---------------------------------------------------------------------------\u001b[0m",
      "\u001b[0;31mNameError\u001b[0m                                 Traceback (most recent call last)",
      "Cell \u001b[0;32mIn[5], line 5\u001b[0m\n\u001b[1;32m      3\u001b[0m     shuffle(num)\n\u001b[1;32m      4\u001b[0m     \u001b[38;5;28;01mreturn\u001b[39;00m num\n\u001b[0;32m----> 5\u001b[0m x\u001b[38;5;241m=\u001b[39msh(ml)\n\u001b[1;32m      6\u001b[0m \u001b[38;5;28mprint\u001b[39m(x)\n",
      "Cell \u001b[0;32mIn[5], line 3\u001b[0m, in \u001b[0;36msh\u001b[0;34m(num)\u001b[0m\n\u001b[1;32m      2\u001b[0m \u001b[38;5;28;01mdef\u001b[39;00m \u001b[38;5;21msh\u001b[39m(num):\n\u001b[0;32m----> 3\u001b[0m     shuffle(num)\n\u001b[1;32m      4\u001b[0m     \u001b[38;5;28;01mreturn\u001b[39;00m num\n",
      "\u001b[0;31mNameError\u001b[0m: name 'shuffle' is not defined"
     ]
    }
   ],
   "source": [
    "ml=[' ','O',' ']\n",
    "def sh(num):\n",
    "    shuffle(num)\n",
    "    return num\n",
    "x=sh(ml)\n",
    "print(x)"
   ]
  },
  {
   "cell_type": "code",
   "execution_count": 11,
   "id": "0fe2db00",
   "metadata": {},
   "outputs": [],
   "source": [
    "def chck_the_guess(myguess,snum):\n",
    "    \n",
    "    snum=[]\n",
    "    if snum[my_guess].upper()==O:\n",
    "        print(\"your guess is correct\")\n",
    "    else:\n",
    "        print(\"your guess is incorrect\")\n",
    "    return snum"
   ]
  },
  {
   "cell_type": "code",
   "execution_count": null,
   "id": "0d896826",
   "metadata": {},
   "outputs": [],
   "source": [
    "mylist=[' ','O',' ']\n",
    "shuf_the_number(mylist)\n",
    "ur_guess()\n",
    "check_the_guess()"
   ]
  }
 ],
 "metadata": {
  "kernelspec": {
   "display_name": "Python 3 (ipykernel)",
   "language": "python",
   "name": "python3"
  },
  "language_info": {
   "codemirror_mode": {
    "name": "ipython",
    "version": 3
   },
   "file_extension": ".py",
   "mimetype": "text/x-python",
   "name": "python",
   "nbconvert_exporter": "python",
   "pygments_lexer": "ipython3",
   "version": "3.11.5"
  }
 },
 "nbformat": 4,
 "nbformat_minor": 5
}
